{
  "cells": [
    {
      "cell_type": "code",
      "execution_count": null,
      "metadata": {
        "id": "z3Z-sMHYFVF0"
      },
      "outputs": [],
      "source": [
        "from keras.preprocessing.text import Tokenizer\n",
        "from keras_preprocessing.sequence import pad_sequences\n",
        "from keras.models import Sequential\n",
        "from keras.layers import Dense\n",
        "from keras.layers import Flatten\n",
        "from keras.layers import Embedding, Bidirectional\n",
        "import pandas as pd\n",
        "import numpy as np\n",
        "from keras.layers import LSTM\n",
        "from keras.layers import TimeDistributed, Activation, Dense\n",
        "from sklearn.model_selection import train_test_split\n",
        "from sklearn.metrics import confusion_matrix, accuracy_score, precision_recall_fscore_support"
      ]
    },
    {
      "cell_type": "code",
      "execution_count": null,
      "metadata": {
        "id": "3UQ5JRXzaGr_"
      },
      "outputs": [],
      "source": [
        "# Read Train Data - Judgement\n",
        "import json\n",
        " \n",
        "with open('/content/sample_data/NER_TRAIN_JUDGEMENT.json', 'r') as f:\n",
        "    data_judgement = json.load(f)"
      ]
    },
    {
      "cell_type": "code",
      "execution_count": null,
      "metadata": {
        "colab": {
          "base_uri": "https://localhost:8080/"
        },
        "id": "hTSoHIXRmUZ-",
        "outputId": "c40d2108-bd94-4e78-b526-7e181426e08a"
      },
      "outputs": [
        {
          "data": {
            "text/plain": [
              "{'id': '90d9a97c7b7749ec8a4f460fda6f937e',\n",
              " 'annotations': [{'result': [{'value': {'start': 90,\n",
              "      'end': 103,\n",
              "      'text': 'Hongkong Bank',\n",
              "      'labels': ['ORG']},\n",
              "     'id': 'C8HPTIM1',\n",
              "     'from_name': 'label',\n",
              "     'to_name': 'text',\n",
              "     'type': 'labels'},\n",
              "    {'value': {'start': 267,\n",
              "      'end': 278,\n",
              "      'text': 'Rahul & Co.',\n",
              "      'labels': ['ORG']},\n",
              "     'id': 'KOWE3RAM',\n",
              "     'from_name': 'label',\n",
              "     'to_name': 'text',\n",
              "     'type': 'labels'}]}],\n",
              " 'data': {'text': \"\\n\\n(7) On specific query by the Bench about an entry of Rs. 1,31,37,500 on deposit side of Hongkong Bank account of which a photo copy is appearing at p. 40 of assessee's paper book, learned authorised representative submitted that it was related to loan from broker, Rahul & Co. on the basis of his submission a necessary mark is put by us on that photo copy.\"},\n",
              " 'meta': {'source': 'tax_districtcourts judgement https://indiankanoon.org/doc/1556717/'}}"
            ]
          },
          "execution_count": 3,
          "metadata": {},
          "output_type": "execute_result"
        }
      ],
      "source": [
        "data_judgement[0]"
      ]
    },
    {
      "cell_type": "code",
      "execution_count": null,
      "metadata": {
        "colab": {
          "base_uri": "https://localhost:8080/"
        },
        "id": "L3mBt3VLkgpk",
        "outputId": "728ea6ff-625d-4919-ac74-346241918698"
      },
      "outputs": [
        {
          "data": {
            "text/plain": [
              "9435"
            ]
          },
          "execution_count": 4,
          "metadata": {},
          "output_type": "execute_result"
        }
      ],
      "source": [
        "len(data_judgement)"
      ]
    },
    {
      "cell_type": "code",
      "execution_count": null,
      "metadata": {
        "id": "_YXGEz6skzkm"
      },
      "outputs": [],
      "source": [
        "# Read Train Data - Preamble\n",
        "import json\n",
        "\n",
        "with open('/content/sample_data/NER_TRAIN_PREAMBLE.json', 'r') as f:\n",
        "    data_preamble = json.load(f)"
      ]
    },
    {
      "cell_type": "code",
      "execution_count": null,
      "metadata": {
        "colab": {
          "base_uri": "https://localhost:8080/"
        },
        "id": "b_svoGL6k48f",
        "outputId": "04b9636b-4ad7-4b9f-ddd5-19115e396d1d"
      },
      "outputs": [
        {
          "data": {
            "text/plain": [
              "1560"
            ]
          },
          "execution_count": 6,
          "metadata": {},
          "output_type": "execute_result"
        }
      ],
      "source": [
        "len(data_preamble)"
      ]
    },
    {
      "cell_type": "code",
      "execution_count": null,
      "metadata": {
        "colab": {
          "base_uri": "https://localhost:8080/"
        },
        "id": "gHghq-UlmY7_",
        "outputId": "0577cc36-0a20-4b2b-d2f6-bf10467b1bca"
      },
      "outputs": [
        {
          "name": "stdout",
          "output_type": "stream",
          "text": [
            "Number of entries in judgement dataset: 9435\n",
            "Number of entries with no entities 2177\n",
            "Number of entries after removing entries with no entities:  7258\n"
          ]
        }
      ],
      "source": [
        "# Tranform Judgement Data into the required Spacy format\n",
        "\n",
        "training_data_judgement = {'classes' : ['COURT', \"PETITIONER\", \"RESPONDENT\", \"JUDGE\", \"LAWYER\", \"DATE\", \"ORG\", \"GPE\", \n",
        "                              \"STATUTE\", \"PROVISION\", \"PRECEDENT\", \"CASE_NUMBER\", \"WITNESS\", \"OTHER_PERSON\"], \n",
        "                 'annotations' : []}\n",
        "count = 0\n",
        "\n",
        "for example in data_judgement:\n",
        "  temp_dict = {}\n",
        "  temp_dict['text'] = example['data']['text']\n",
        "  temp_dict['entities'] = []\n",
        "  for annotation in example['annotations']:\n",
        "    for result in annotation['result']:\n",
        "      start = result['value']['start']\n",
        "      end = result['value']['end']\n",
        "      for label in result['value']['labels']:\n",
        "        temp_dict['entities'].append((start, end, label))\n",
        "  if temp_dict['entities']:\n",
        "    training_data_judgement['annotations'].append(temp_dict)\n",
        "  else:\n",
        "    count += 1\n",
        "# print(training_data_judgement['annotations'][0])\n",
        "print(\"Number of entries in judgement dataset:\", len(data_judgement))\n",
        "print(\"Number of entries with no entities\", count)\n",
        "\n",
        "print(\"Number of entries after removing entries with no entities: \", len(training_data_judgement['annotations']))\n"
      ]
    },
    {
      "cell_type": "code",
      "execution_count": null,
      "metadata": {
        "colab": {
          "base_uri": "https://localhost:8080/"
        },
        "id": "VXHvtu4X5Npu",
        "outputId": "d256d961-3af0-4a9b-8582-dc9639e69795"
      },
      "outputs": [
        {
          "name": "stdout",
          "output_type": "stream",
          "text": [
            "{'text': \"\\n\\n(7) On specific query by the Bench about an entry of Rs. 1,31,37,500 on deposit side of Hongkong Bank account of which a photo copy is appearing at p. 40 of assessee's paper book, learned authorised representative submitted that it was related to loan from broker, Rahul & Co. on the basis of his submission a necessary mark is put by us on that photo copy.\", 'entities': [(90, 103, 'ORG'), (267, 278, 'ORG')]}\n"
          ]
        }
      ],
      "source": [
        "print(training_data_judgement[\"annotations\"][0])"
      ]
    },
    {
      "cell_type": "code",
      "execution_count": null,
      "metadata": {
        "colab": {
          "base_uri": "https://localhost:8080/"
        },
        "id": "fpzH46wRM6kA",
        "outputId": "a66c10b2-79d0-4c28-84e4-ef34a01e590e"
      },
      "outputs": [
        {
          "name": "stdout",
          "output_type": "stream",
          "text": [
            "Number of entries in preamble dataset: 1560\n",
            "Number of entries in preamble with no entities 2\n",
            "Number of entries in preamble after removing entries with no entities:  1558\n"
          ]
        }
      ],
      "source": [
        "# Tranform Preamble Data into the required Spacy format\n",
        "\n",
        "training_data_preamble = {'classes' : ['COURT', \"PETITIONER\", \"RESPONDENT\", \"JUDGE\", \"LAWYER\", \"DATE\", \"ORG\", \"GPE\", \n",
        "                              \"STATUTE\", \"PROVISION\", \"PRECEDENT\", \"CASE_NUMBER\", \"WITNESS\", \"OTHER_PERSON\"], \n",
        "                 'annotations' : []}\n",
        "count = 0\n",
        "\n",
        "for example in data_preamble:\n",
        "  temp_dict = {}\n",
        "  temp_dict['text'] = example['data']['text']\n",
        "  temp_dict['entities'] = []\n",
        "  for annotation in example['annotations']:\n",
        "    for result in annotation['result']:\n",
        "      start = result['value']['start']\n",
        "      end = result['value']['end']\n",
        "      for label in result['value']['labels']:\n",
        "        temp_dict['entities'].append((start, end, label))\n",
        "  if temp_dict['entities']:\n",
        "    training_data_preamble['annotations'].append(temp_dict)\n",
        "  else:\n",
        "    count += 1\n",
        "# print(training_data['annotations'][0])\n",
        "print(\"Number of entries in preamble dataset:\", len(data_preamble))\n",
        "print(\"Number of entries in preamble with no entities\", count)\n",
        "\n",
        "print(\"Number of entries in preamble after removing entries with no entities: \", len(training_data_preamble['annotations']))"
      ]
    },
    {
      "cell_type": "code",
      "execution_count": null,
      "metadata": {
        "colab": {
          "base_uri": "https://localhost:8080/"
        },
        "id": "fpSLCrsUMwlf",
        "outputId": "dab7a88e-2331-4b7c-90ac-5c9fda631b99"
      },
      "outputs": [
        {
          "name": "stdout",
          "output_type": "stream",
          "text": [
            "{'text': \"In The High Court Of Kerala At Ernakulam\\n\\nCrl Mc No. 1622 of 2006()\\n\\n\\n1. T.R.Ajayan, S/O. O.Raman,\\n                      ...  Petitioner\\n\\n                        Vs\\n\\n\\n\\n1. M.Ravindran,\\n                       ...       Respondent\\n\\n2. Mrs. Nirmala Dinesh, W/O. Dinesh,\\n\\n                For Petitioner  :Sri.A.Kumar\\n\\n                For Respondent  :Smt.M.K.Pushpalatha\\n\\nThe Hon'ble Mr. Justice P.R.Raman\\nThe Hon'ble Mr. Justice V.K.Mohanan\\n\\n Dated :07/01/2008\\n\\n O R D E R\\n\", 'entities': [(7, 40, 'COURT'), (73, 83, 'PETITIONER'), (171, 182, 'RESPONDENT'), (237, 251, 'RESPONDENT'), (304, 311, 'LAWYER'), (350, 365, 'LAWYER'), (391, 400, 'JUDGE'), (425, 436, 'JUDGE')]}\n"
          ]
        }
      ],
      "source": [
        "print(training_data_preamble[\"annotations\"][0])"
      ]
    },
    {
      "cell_type": "code",
      "execution_count": null,
      "metadata": {
        "colab": {
          "base_uri": "https://localhost:8080/"
        },
        "id": "JusYiRH5N2g4",
        "outputId": "556c9b45-00b2-4182-ac3f-a02d4a6c64d3"
      },
      "outputs": [
        {
          "name": "stdout",
          "output_type": "stream",
          "text": [
            "Number of entries in Train judgement dataset: 5806\n",
            "Number of entries in Validation judgement dataset: 1452\n",
            "Number of entries in Train preamble dataset: 1246\n",
            "Number of entries in Validation preamble dataset: 312\n",
            "Number of entries in Train dataset: 7052\n",
            "Number of entries in Validation dataset: 1764\n"
          ]
        }
      ],
      "source": [
        "# Train Test Split\n",
        "train_entries_judgement = int(len(training_data_judgement['annotations']) * 0.8)\n",
        "train_data_judgement = training_data_judgement['annotations'][:train_entries_judgement]\n",
        "dev_data_judgement = training_data_judgement['annotations'][train_entries_judgement:]\n",
        "\n",
        "print(\"Number of entries in Train judgement dataset:\", len(train_data_judgement))\n",
        "print(\"Number of entries in Validation judgement dataset:\", len(dev_data_judgement))\n",
        "\n",
        "\n",
        "train_entries_preamble = int(len(training_data_preamble['annotations']) * 0.8)\n",
        "train_data_preamble = training_data_preamble['annotations'][:train_entries_preamble]\n",
        "dev_data_preamble = training_data_preamble['annotations'][train_entries_preamble:]\n",
        "\n",
        "print(\"Number of entries in Train preamble dataset:\", len(train_data_preamble))\n",
        "print(\"Number of entries in Validation preamble dataset:\", len(dev_data_preamble))\n",
        "\n",
        "train_data = train_data_judgement + train_data_preamble\n",
        "dev_data = dev_data_judgement + dev_data_preamble\n",
        "\n",
        "print(\"Number of entries in Train dataset:\", len(train_data))\n",
        "print(\"Number of entries in Validation dataset:\", len(dev_data))"
      ]
    },
    {
      "cell_type": "code",
      "execution_count": null,
      "metadata": {
        "id": "TegGyXMROCJY"
      },
      "outputs": [],
      "source": [
        "import spacy\n",
        "from spacy.tokens import DocBin\n",
        "from tqdm import tqdm\n",
        "\n",
        "nlp = spacy.blank(\"en\") # load a new spacy model\n",
        "doc_bin = DocBin()"
      ]
    },
    {
      "cell_type": "code",
      "execution_count": null,
      "metadata": {
        "colab": {
          "base_uri": "https://localhost:8080/"
        },
        "id": "Q2Eb2SE4scXJ",
        "outputId": "da70082a-d920-442e-8268-99d5a08eecbb"
      },
      "outputs": [
        {
          "name": "stderr",
          "output_type": "stream",
          "text": [
            "100%|██████████| 7052/7052 [00:04<00:00, 1412.58it/s]\n"
          ]
        }
      ],
      "source": [
        "# Create DocBin File of Train Data\n",
        "\n",
        "from spacy.util import filter_spans\n",
        "\n",
        "for training_example  in tqdm(train_data): \n",
        "    text = training_example['text']\n",
        "    labels = training_example['entities']\n",
        "    doc = nlp.make_doc(text) \n",
        "    ents = []\n",
        "    for start, end, label in labels:\n",
        "        span = doc.char_span(start, end, label=label, alignment_mode=\"contract\")\n",
        "        # if span is None:\n",
        "        #     print(\"Skipping entity\")\n",
        "        # else:\n",
        "        ents.append(span)\n",
        "    filtered_ents = filter_spans(ents)\n",
        "    doc.ents = filtered_ents \n",
        "    doc_bin.add(doc)\n",
        "\n",
        "doc_bin.to_disk(\"/content/sample_data/training_data.spacy\") # save the docbin object"
      ]
    },
    {
      "cell_type": "code",
      "execution_count": null,
      "metadata": {
        "colab": {
          "base_uri": "https://localhost:8080/"
        },
        "id": "yKtnVLDjPhRY",
        "outputId": "98fe36dd-bd37-41a5-a554-c8af6234c58b"
      },
      "outputs": [
        {
          "name": "stderr",
          "output_type": "stream",
          "text": [
            "100%|██████████| 1764/1764 [00:01<00:00, 1658.18it/s]\n"
          ]
        }
      ],
      "source": [
        "# Create DocBin File of Dev Data\n",
        "\n",
        "for training_example  in tqdm(dev_data): \n",
        "    text = training_example['text']\n",
        "    labels = training_example['entities']\n",
        "    doc = nlp.make_doc(text) \n",
        "    ents = []\n",
        "    for start, end, label in labels:\n",
        "        span = doc.char_span(start, end, label=label, alignment_mode=\"contract\")\n",
        "        # if span is None:\n",
        "        #     print(\"Skipping entity\")\n",
        "        # else:\n",
        "        ents.append(span)\n",
        "    filtered_ents = filter_spans(ents)\n",
        "    doc.ents = filtered_ents \n",
        "    doc_bin.add(doc)\n",
        "\n",
        "doc_bin.to_disk(\"/content/sample_data/dev_data.spacy\") # save the docbin object"
      ]
    },
    {
      "cell_type": "code",
      "execution_count": null,
      "metadata": {
        "colab": {
          "base_uri": "https://localhost:8080/"
        },
        "id": "xbMdDB4zsqr3",
        "outputId": "e9b832c6-1083-4118-855a-42feefd1dc1f"
      },
      "outputs": [
        {
          "name": "stdout",
          "output_type": "stream",
          "text": [
            "\u001b[38;5;2m✔ Auto-filled config with all values\u001b[0m\n",
            "\u001b[38;5;2m✔ Saved config\u001b[0m\n",
            "/content/sample_data/config.cfg\n",
            "You can now add your data and train your pipeline:\n",
            "python -m spacy train config.cfg --paths.train ./train.spacy --paths.dev ./dev.spacy\n"
          ]
        }
      ],
      "source": [
        "# Create config file from the base config\n",
        "\n",
        "!python -m spacy init fill-config /content/sample_data/base_config.cfg /content/sample_data/config.cfg"
      ]
    },
    {
      "cell_type": "code",
      "execution_count": null,
      "metadata": {
        "colab": {
          "base_uri": "https://localhost:8080/"
        },
        "id": "FTtzlWx7qvP6",
        "outputId": "e7f81cb5-dc36-435b-bdcb-6a7d48f78b7a"
      },
      "outputs": [
        {
          "name": "stdout",
          "output_type": "stream",
          "text": [
            "Looking in indexes: https://pypi.org/simple, https://us-python.pkg.dev/colab-wheels/public/simple/\n",
            "Collecting en-core-web-lg==3.4.1\n",
            "  Downloading https://github.com/explosion/spacy-models/releases/download/en_core_web_lg-3.4.1/en_core_web_lg-3.4.1-py3-none-any.whl (587.7 MB)\n",
            "\u001b[K     |████████████████████████████████| 587.7 MB 16 kB/s \n",
            "\u001b[?25hRequirement already satisfied: spacy<3.5.0,>=3.4.0 in /usr/local/lib/python3.8/dist-packages (from en-core-web-lg==3.4.1) (3.4.3)\n",
            "Requirement already satisfied: requests<3.0.0,>=2.13.0 in /usr/local/lib/python3.8/dist-packages (from spacy<3.5.0,>=3.4.0->en-core-web-lg==3.4.1) (2.23.0)\n",
            "Requirement already satisfied: murmurhash<1.1.0,>=0.28.0 in /usr/local/lib/python3.8/dist-packages (from spacy<3.5.0,>=3.4.0->en-core-web-lg==3.4.1) (1.0.9)\n",
            "Requirement already satisfied: preshed<3.1.0,>=3.0.2 in /usr/local/lib/python3.8/dist-packages (from spacy<3.5.0,>=3.4.0->en-core-web-lg==3.4.1) (3.0.8)\n",
            "Requirement already satisfied: thinc<8.2.0,>=8.1.0 in /usr/local/lib/python3.8/dist-packages (from spacy<3.5.0,>=3.4.0->en-core-web-lg==3.4.1) (8.1.5)\n",
            "Requirement already satisfied: pydantic!=1.8,!=1.8.1,<1.11.0,>=1.7.4 in /usr/local/lib/python3.8/dist-packages (from spacy<3.5.0,>=3.4.0->en-core-web-lg==3.4.1) (1.10.2)\n",
            "Requirement already satisfied: tqdm<5.0.0,>=4.38.0 in /usr/local/lib/python3.8/dist-packages (from spacy<3.5.0,>=3.4.0->en-core-web-lg==3.4.1) (4.64.1)\n",
            "Requirement already satisfied: spacy-loggers<2.0.0,>=1.0.0 in /usr/local/lib/python3.8/dist-packages (from spacy<3.5.0,>=3.4.0->en-core-web-lg==3.4.1) (1.0.3)\n",
            "Requirement already satisfied: setuptools in /usr/local/lib/python3.8/dist-packages (from spacy<3.5.0,>=3.4.0->en-core-web-lg==3.4.1) (57.4.0)\n",
            "Requirement already satisfied: wasabi<1.1.0,>=0.9.1 in /usr/local/lib/python3.8/dist-packages (from spacy<3.5.0,>=3.4.0->en-core-web-lg==3.4.1) (0.10.1)\n",
            "Requirement already satisfied: jinja2 in /usr/local/lib/python3.8/dist-packages (from spacy<3.5.0,>=3.4.0->en-core-web-lg==3.4.1) (2.11.3)\n",
            "Requirement already satisfied: langcodes<4.0.0,>=3.2.0 in /usr/local/lib/python3.8/dist-packages (from spacy<3.5.0,>=3.4.0->en-core-web-lg==3.4.1) (3.3.0)\n",
            "Requirement already satisfied: catalogue<2.1.0,>=2.0.6 in /usr/local/lib/python3.8/dist-packages (from spacy<3.5.0,>=3.4.0->en-core-web-lg==3.4.1) (2.0.8)\n",
            "Requirement already satisfied: srsly<3.0.0,>=2.4.3 in /usr/local/lib/python3.8/dist-packages (from spacy<3.5.0,>=3.4.0->en-core-web-lg==3.4.1) (2.4.5)\n",
            "Requirement already satisfied: packaging>=20.0 in /usr/local/lib/python3.8/dist-packages (from spacy<3.5.0,>=3.4.0->en-core-web-lg==3.4.1) (21.3)\n",
            "Requirement already satisfied: pathy>=0.3.5 in /usr/local/lib/python3.8/dist-packages (from spacy<3.5.0,>=3.4.0->en-core-web-lg==3.4.1) (0.9.0)\n",
            "Requirement already satisfied: numpy>=1.15.0 in /usr/local/lib/python3.8/dist-packages (from spacy<3.5.0,>=3.4.0->en-core-web-lg==3.4.1) (1.21.6)\n",
            "Requirement already satisfied: typer<0.8.0,>=0.3.0 in /usr/local/lib/python3.8/dist-packages (from spacy<3.5.0,>=3.4.0->en-core-web-lg==3.4.1) (0.7.0)\n",
            "Requirement already satisfied: spacy-legacy<3.1.0,>=3.0.10 in /usr/local/lib/python3.8/dist-packages (from spacy<3.5.0,>=3.4.0->en-core-web-lg==3.4.1) (3.0.10)\n",
            "Requirement already satisfied: cymem<2.1.0,>=2.0.2 in /usr/local/lib/python3.8/dist-packages (from spacy<3.5.0,>=3.4.0->en-core-web-lg==3.4.1) (2.0.7)\n",
            "Requirement already satisfied: pyparsing!=3.0.5,>=2.0.2 in /usr/local/lib/python3.8/dist-packages (from packaging>=20.0->spacy<3.5.0,>=3.4.0->en-core-web-lg==3.4.1) (3.0.9)\n",
            "Requirement already satisfied: smart-open<6.0.0,>=5.2.1 in /usr/local/lib/python3.8/dist-packages (from pathy>=0.3.5->spacy<3.5.0,>=3.4.0->en-core-web-lg==3.4.1) (5.2.1)\n",
            "Requirement already satisfied: typing-extensions>=4.1.0 in /usr/local/lib/python3.8/dist-packages (from pydantic!=1.8,!=1.8.1,<1.11.0,>=1.7.4->spacy<3.5.0,>=3.4.0->en-core-web-lg==3.4.1) (4.1.1)\n",
            "Requirement already satisfied: urllib3!=1.25.0,!=1.25.1,<1.26,>=1.21.1 in /usr/local/lib/python3.8/dist-packages (from requests<3.0.0,>=2.13.0->spacy<3.5.0,>=3.4.0->en-core-web-lg==3.4.1) (1.24.3)\n",
            "Requirement already satisfied: certifi>=2017.4.17 in /usr/local/lib/python3.8/dist-packages (from requests<3.0.0,>=2.13.0->spacy<3.5.0,>=3.4.0->en-core-web-lg==3.4.1) (2022.9.24)\n",
            "Requirement already satisfied: idna<3,>=2.5 in /usr/local/lib/python3.8/dist-packages (from requests<3.0.0,>=2.13.0->spacy<3.5.0,>=3.4.0->en-core-web-lg==3.4.1) (2.10)\n",
            "Requirement already satisfied: chardet<4,>=3.0.2 in /usr/local/lib/python3.8/dist-packages (from requests<3.0.0,>=2.13.0->spacy<3.5.0,>=3.4.0->en-core-web-lg==3.4.1) (3.0.4)\n",
            "Requirement already satisfied: confection<1.0.0,>=0.0.1 in /usr/local/lib/python3.8/dist-packages (from thinc<8.2.0,>=8.1.0->spacy<3.5.0,>=3.4.0->en-core-web-lg==3.4.1) (0.0.3)\n",
            "Requirement already satisfied: blis<0.8.0,>=0.7.8 in /usr/local/lib/python3.8/dist-packages (from thinc<8.2.0,>=8.1.0->spacy<3.5.0,>=3.4.0->en-core-web-lg==3.4.1) (0.7.9)\n",
            "Requirement already satisfied: click<9.0.0,>=7.1.1 in /usr/local/lib/python3.8/dist-packages (from typer<0.8.0,>=0.3.0->spacy<3.5.0,>=3.4.0->en-core-web-lg==3.4.1) (7.1.2)\n",
            "Requirement already satisfied: MarkupSafe>=0.23 in /usr/local/lib/python3.8/dist-packages (from jinja2->spacy<3.5.0,>=3.4.0->en-core-web-lg==3.4.1) (2.0.1)\n",
            "Installing collected packages: en-core-web-lg\n",
            "Successfully installed en-core-web-lg-3.4.1\n",
            "\u001b[38;5;2m✔ Download and installation successful\u001b[0m\n",
            "You can now load the package via spacy.load('en_core_web_lg')\n"
          ]
        }
      ],
      "source": [
        "!python -m spacy download en_core_web_lg"
      ]
    },
    {
      "cell_type": "code",
      "execution_count": null,
      "metadata": {
        "colab": {
          "base_uri": "https://localhost:8080/"
        },
        "id": "EYs4sNaqvM9f",
        "outputId": "2ed351ec-f1ef-426f-b23a-7b71228af4b6"
      },
      "outputs": [
        {
          "name": "stdout",
          "output_type": "stream",
          "text": [
            "\u001b[38;5;4mℹ Saving to output directory: .\u001b[0m\n",
            "\u001b[38;5;4mℹ Using GPU: 0\u001b[0m\n",
            "\u001b[1m\n",
            "=========================== Initializing pipeline ===========================\u001b[0m\n",
            "[2022-12-05 03:14:29,583] [INFO] Set up nlp object from config\n",
            "INFO:spacy:Set up nlp object from config\n",
            "[2022-12-05 03:14:29,593] [INFO] Pipeline: ['tok2vec', 'ner']\n",
            "INFO:spacy:Pipeline: ['tok2vec', 'ner']\n",
            "[2022-12-05 03:14:29,597] [INFO] Created vocabulary\n",
            "INFO:spacy:Created vocabulary\n",
            "[2022-12-05 03:14:29,597] [INFO] Finished initializing nlp object\n",
            "INFO:spacy:Finished initializing nlp object\n",
            "[2022-12-05 03:14:47,820] [INFO] Initialized pipeline components: ['tok2vec', 'ner']\n",
            "INFO:spacy:Initialized pipeline components: ['tok2vec', 'ner']\n",
            "\u001b[38;5;2m✔ Initialized pipeline\u001b[0m\n",
            "\u001b[1m\n",
            "============================= Training pipeline =============================\u001b[0m\n",
            "\u001b[38;5;4mℹ Pipeline: ['tok2vec', 'ner']\u001b[0m\n",
            "\u001b[38;5;4mℹ Initial learn rate: 0.001\u001b[0m\n",
            "E    #       LOSS TOK2VEC  LOSS NER  ENTS_F  ENTS_P  ENTS_R  SCORE \n",
            "---  ------  ------------  --------  ------  ------  ------  ------\n",
            "  0       0          0.00     50.93    0.00    0.00    0.00    0.00\n",
            "  0     200       2458.34   4322.36    7.15   10.80    5.34    0.07\n",
            "  0     400       1446.73   2713.25   18.16   22.13   15.40    0.18\n",
            "  0     600       7455.29   3355.50   22.70   34.87   16.83    0.23\n",
            "  0     800       6191.43   3614.58   30.33   33.79   27.52    0.30\n",
            "  0    1000       8124.70   3835.09   44.43   48.80   40.77    0.44\n",
            "  0    1200       1230.42   3525.21   49.64   53.56   46.26    0.50\n",
            "  0    1400        992.52   3634.80   52.87   58.51   48.23    0.53\n",
            "  0    1600       1743.85   4429.08   60.51   64.60   56.90    0.61\n",
            "  0    1800       4423.28   4890.13   56.11   60.29   52.48    0.56\n",
            "  1    2000       2734.86   5276.62   65.05   68.62   61.83    0.65\n",
            "  1    2200       2852.20   5506.65   67.67   71.07   64.57    0.68\n",
            "  1    2400       4201.34   7428.27   68.17   69.82   66.59    0.68\n",
            "  2    2600       5270.71   7684.29   73.06   74.06   72.09    0.73\n",
            "  2    2800       4753.51   7086.70   74.58   74.64   74.52    0.75\n",
            "  2    3000       3692.11   6521.23   73.55   77.39   70.06    0.74\n",
            "  3    3200       4866.27   6578.98   76.16   76.87   75.47    0.76\n",
            "  3    3400       4460.00   5978.83   77.68   77.34   78.02    0.78\n",
            "  3    3600       4899.52   6092.99   79.31   79.23   79.40    0.79\n",
            "  4    3800       4366.33   5465.95   79.85   80.45   79.26    0.80\n",
            "  4    4000       4586.55   5438.97   80.97   80.57   81.38    0.81\n",
            "  5    4200       9926.16   5192.28   81.54   82.23   80.87    0.82\n",
            "  5    4400       5487.59   4767.83   82.57   84.07   81.11    0.83\n",
            "  5    4600       6088.66   5032.45   82.71   84.11   81.36    0.83\n",
            "  6    4800       5401.66   4467.57   83.54   83.53   83.55    0.84\n",
            "  6    5000       5967.68   4444.01   84.32   84.45   84.19    0.84\n",
            "  7    5200       5500.32   4504.87   84.82   85.35   84.30    0.85\n",
            "  7    5400       5211.71   3849.04   84.66   84.94   84.38    0.85\n",
            "  7    5600       8179.98   4068.32   85.09   85.61   84.58    0.85\n",
            "  8    5800       8047.00   4210.30   86.13   85.55   86.73    0.86\n",
            "  8    6000       6382.05   3853.07   86.41   86.85   85.97    0.86\n",
            "  8    6200       6538.25   4001.08   86.57   86.95   86.19    0.87\n",
            "  9    6400       6451.07   3362.87   87.33   88.32   86.36    0.87\n",
            "  9    6600       9509.28   3670.09   86.55   86.45   86.65    0.87\n",
            " 10    6800       5214.67   3553.49   87.27   87.25   87.29    0.87\n",
            " 10    7000       6326.03   3241.98   87.80   88.55   87.06    0.88\n",
            " 10    7200       6769.58   3425.08   88.19   88.89   87.49    0.88\n",
            " 11    7400       5723.79   3031.03   87.91   88.94   86.90    0.88\n",
            " 11    7600       5959.21   3177.24   88.87   89.33   88.41    0.89\n",
            " 12    7800       5595.36   3150.10   88.71   88.78   88.65    0.89\n",
            " 12    8000       6582.36   3052.61   88.97   89.10   88.85    0.89\n",
            " 12    8200       6511.74   3005.09   89.43   89.89   88.98    0.89\n",
            " 13    8400       8053.30   2864.51   88.88   88.70   89.06    0.89\n",
            " 13    8600       4270.13   2613.91   89.51   89.81   89.21    0.90\n",
            " 13    8800       7975.19   2954.51   89.49   89.15   89.83    0.89\n",
            " 14    9000       6168.59   2465.11   89.38   89.73   89.04    0.89\n",
            " 14    9200       7843.65   2862.21   89.05   88.84   89.26    0.89\n",
            " 15    9400       5385.52   2636.14   90.24   90.23   90.26    0.90\n",
            " 15    9600       6121.11   2359.89   90.24   90.06   90.43    0.90\n",
            " 15    9800       5639.71   2481.53   90.16   90.41   89.92    0.90\n",
            " 16   10000       6645.80   2269.13   90.29   89.96   90.62    0.90\n",
            " 16   10200      12130.23   2647.24   90.42   91.17   89.69    0.90\n",
            " 17   10400       6291.86   2422.50   90.42   89.41   91.45    0.90\n",
            " 17   10600       5751.96   2215.67   90.38   90.13   90.63    0.90\n",
            " 17   10800       6068.19   2261.82   91.10   91.73   90.47    0.91\n",
            " 18   11000       5888.94   2134.46   91.32   91.58   91.06    0.91\n",
            " 18   11200      10696.82   2321.38   90.56   89.99   91.15    0.91\n",
            " 18   11400       6692.28   2185.29   90.89   92.10   89.71    0.91\n",
            " 19   11600       6853.39   2104.00   91.38   91.62   91.14    0.91\n",
            " 19   11800       6838.61   2072.43   91.18   90.91   91.45    0.91\n",
            " 20   12000       9782.82   2244.70   90.80   90.94   90.66    0.91\n",
            " 20   12200       6084.61   2021.38   91.01   90.70   91.31    0.91\n",
            " 20   12400       6902.81   2229.41   91.71   91.43   92.00    0.92\n",
            " 21   12600      10297.27   2178.52   91.73   92.11   91.35    0.92\n",
            " 21   12800       7650.10   2022.47   91.86   92.57   91.15    0.92\n",
            " 22   13000      10789.55   2194.43   91.99   92.57   91.42    0.92\n",
            " 22   13200       7291.98   1820.01   91.84   91.97   91.72    0.92\n",
            " 22   13400      13587.92   2050.80   91.62   90.98   92.28    0.92\n",
            " 23   13600       9584.46   1938.43   91.86   92.25   91.47    0.92\n",
            " 23   13800       5887.37   1741.64   92.02   92.37   91.67    0.92\n",
            " 23   14000       8212.55   1875.63   92.56   92.82   92.30    0.93\n",
            " 24   14200       5876.50   1647.66   92.23   92.46   91.99    0.92\n",
            " 24   14400      11959.90   1771.64   92.02   91.52   92.53    0.92\n",
            " 25   14600      12352.85   1971.02   92.10   92.16   92.05    0.92\n",
            " 25   14800      11729.21   1803.67   92.45   93.00   91.92    0.92\n",
            " 25   15000       9212.03   1807.67   92.53   93.01   92.06    0.93\n",
            " 26   15200      10301.99   1807.43   91.91   92.28   91.54    0.92\n",
            " 26   15400       9306.27   1717.16   92.41   92.18   92.64    0.92\n",
            " 27   15600       8342.82   1835.38   92.70   93.56   91.85    0.93\n",
            " 27   15800       6450.50   1660.02   92.06   91.89   92.22    0.92\n",
            " 27   16000       6270.77   1617.31   92.61   93.02   92.20    0.93\n",
            " 28   16200       7117.42   1447.90   92.63   92.46   92.80    0.93\n",
            " 28   16400       9738.03   1528.93   92.58   92.81   92.35    0.93\n",
            " 28   16600       8879.91   1644.79   92.35   92.17   92.53    0.92\n",
            " 29   16800       9182.54   1474.63   92.58   92.57   92.59    0.93\n",
            " 29   17000       8790.47   1651.33   93.03   93.11   92.95    0.93\n",
            " 30   17200       9140.54   1493.06   92.82   93.14   92.49    0.93\n",
            " 30   17400      11177.33   1501.31   92.75   92.75   92.75    0.93\n",
            " 30   17600       9659.30   1580.83   92.52   92.14   92.90    0.93\n",
            " 31   17800       7289.32   1368.21   92.92   93.20   92.63    0.93\n",
            " 31   18000       8530.70   1250.18   92.73   92.87   92.59    0.93\n",
            " 31   18200      10902.48   1695.96   92.97   93.07   92.88    0.93\n",
            " 32   18400      10295.88   1426.89   92.72   92.37   93.07    0.93\n",
            " 32   18600       7538.70   1389.54   92.98   93.62   92.35    0.93\n",
            "\u001b[38;5;2m✔ Saved pipeline to output directory\u001b[0m\n",
            "model-last\n"
          ]
        }
      ],
      "source": [
        "# Model Training\n",
        "\n",
        "!python -m spacy train /content/sample_data/config.cfg --output ./ --paths.train /content/sample_data/training_data.spacy --paths.dev /content/sample_data/dev_data.spacy --gpu-id 0"
      ]
    },
    {
      "cell_type": "code",
      "execution_count": null,
      "metadata": {
        "id": "EH6CSBRgxXXR"
      },
      "outputs": [],
      "source": [
        "judgment_text = 'Petitioner:\\nShiv Shakti Coop. Housing Society, Nagpur\\n\\nRespondent:\\nM/s. Swaraj Developers & Ors.\\n\\nDate Of Judgment : 17/04/2003 BENCH:\\nSHIVARAJ V. PATIL & ARIJIT PASAYAT.\\n\\nJUDGMENT:\\nJ U D G M E N T (Arising Out of S.L.P. (C) No. 19030 of 2002) WITH Civil Appeal No. 3489 [email protected] S.L.P.(C)No.19852/2002, Civil Appeal Nos.3494-98/[email protected] S.L.P.(C)Nos.22848-22852/2002, and Civil Appeal No. 3499/[email protected] S.L.P.(C) No.22009/2002] ARIJIT PASAYAT,J. \\n\\n Leave granted. \\n\\n A short but important question of law involving effect of amendment to Section 115 of the Code of Civil Procedure, 1908 (in short \\'the Code\\') is involved in these appeals. Since the answer to the question does not involve any factual adjudication, a brief reference thereto would suffice. \\n\\n By Section 12(i) of the Code of Civil Procedure (Amendment) Act, 1999 (in short \\'the Amendment Act\\') operative from 1.7.2002, amendments were made to Section 115 of the Code. In all these appeals, the concerned High Courts held that because of amended Section 115, the revision filed before them was not maintainable, as had an order been passed in favour of the party applying for revision, same would not have finally disposed of the suit or other proceeding. \\n\\n It has been contended by learned counsel for the appellants that the High Court went wrong in disposing of the revision applications as not maintainable, on several grounds. They are (i) the amended provisions do not apply to petitions which were admitted before the amendment, (ii) appeals and revisions stand on a parallel footing and are vested rights in the appellant/applicant, as the case may be, and as such the amended provisions would not have any application, and (iii) the applications for injunction and the like which form subject matter of the revisions relate to the expression \\'other proceeding\\' and even if the amended provisions apply disposal of the revision would have meant final dismissal of such \\'other proceeding\\'. \\n\\n With reference to Section 32(2)(i) of the Amendment Act, it is submitted that the same does not convey any meaning. The legislature always saved pending proceedings in terms of Section 6 of the General Clauses Act, 1897 (in short \\'General Clauses Act\\') and, therefore, proceedings which were pending before the High Court on the date of amendment are clearly outside the effect of amendment. Even if it is conceded for the sake of arguments that there is no specific provision in that regard, it is clearly a case of casus omissus. \\n\\n In response, learned counsel for the respondents submitted that plain meaning of provisions of a statute have to be given full effect and even a bare reading of the provisions makes it clear that the High Court\\'s order is on terra firma. Whenever the legislature intended to keep the pending proceedings out of the purview of amended provisions, it was specifically so provided. Reference is made to the amendment in 1976 to the Code which in Section 97(3) of the Code of Civil Procedure (Amendment) Act, 1976 (in short \\'Old Amendment Act\\') saved the pending proceedings, ruling out operation of Section 6 of the General Clauses Act. \\n\\n In order to appreciate the rival submissions it will be necessary to take note of the provisions of Section 115 as they stood before amendment and after amendment. \\n\\n \"Section 115 (before Amendment):\\n (1) The High Court may call for the record of any case which has been decided by any Court subordinate to such High Court and in which no appeal lies thereto, and if such subordinate court appears (a) to have exercised a jurisdiction not vested in it by law, or (b) to have failed to exercise a jurisdiction so vested, or (c) to have acted in the exercise of its jurisdiction illegally or with material irregularity, the High Court may make such order in the case as it thinks fit:\\nProvided that the High Court shall not, under this section, vary or reverse any order made, or any order deciding an issue, in the course of a suit or order proceeding, except where (a) the order, if it had been made in favour of the party applying for revision, would have finally disposed of the suit or other proceeding, or (b) the order, if allowed to stand, would occasion a failure of justice or cause irreparable injury to the party against whom it was made. \\n\\n(2) The High Court shall not, under this section, vary or reverse any decree or order against which an appeal lies either to the High Court or to any Court subordinate thereto. \\n\\nExplanation: In this section, the expression \"Any case which has been decided: includes any order made, or any order deciding an issue, in the course of a suit or other proceeding.\" \\n\\nSection 115 (after Amendment):\\n (1) The High Court may call for the record of any case which has been decided by any Court subordinate to such High Court and in which no appeal lies thereto, and if such subordinate court appears (a) to have exercised a jurisdiction not vested in it by law, or (b) to have failed to exercise a jurisdiction so vested. \\n\\n(c) to have acted in the exercise of its jurisdiction illegally or with material irregularity, the High Court may make such order in the case as it thinks fit:\\nProvided that the High Court shall not, under this section, vary or reverse any order made, or any order deciding an issue, in the course of a suit or order proceeding, except where the order, if it had been made in favour of the party applying for revision, would have finally disposed of the suit or other proceedings. \\n\\n(2) The High Court shall not, under this section, vary or reverse any decree or order against which an appeal lies either to the High Court or to any Court subordinate thereto. \\n\\n(3) A revision shall not operate as a stay of suit or other proceeding before the Court except where such suit or other proceeding is stayed by the High Court. \\n\\nExplanation: In this section, the expression \"any case which has been decided\" includes any order made, or any order deciding the issue, in the course of a suit or other proceeding.\" \\n\\n A comparison of two provisions shows that while proviso (a) of the un-amended provision has been retained in its totality, in the amended provisions clause (b) of the proviso has been omitted. \\n\\n It is to be noted that prior to the amendments to the Code by the Old Amendment Act, the power of revision was wider. By the amendment, certain positive restrictions were put on the High Court\\'s power to deal with revisions under Section 115. Prior to the said amendment, it was not strictly necessary that the impugned order would have the result of finally deciding the lis or the proceedings in the lower courts. In fact, the power could be exercised in any case where jurisdictional error was committed by the original court or where substantial injustice had resulted. By the Old Amendment Act, the condition of finally deciding of lis and the proceedings in the subordinate courts was introduced. The proviso which was introduced contains qualifications which are pre-requisites before exercise of power under Section 115. They were clauses (a) and (b) of the proviso. Logically, the High Court has suo motu power to revise an order where total failure of justice would have occasioned or where irreparable loss would have caused to the parties against whom it was made. These powers were retained by clause (b). Though, after 1976, the exercise of power was somewhat circumscribed, it was not totally curtailed. In other words, the High Court could even after the 1976 amendment interfere in cases where there was failure of justice or irreparable loss caused, the nature of the proceedings was substantially changed and the suo motu power of the High Court was retained. It was in the nature of power of superintendence of the High Court over the subordinate courts. Changes were related to indicating limitations in exercise of power. \\n\\n Even after the amendments in 1976, in 1999 and prior to the amendment in 1976, the revision power was exercisable in a case where the order or the decree, as the case may be, was not appealable. \\n\\n Sub-section (2) which was introduced by the Old Amendment Act and retained even after present amendment, provides that the High Court shall not interfere where the order or the decree is appealable in courts subordinate to the High Court. \\n\\n It is interesting to note that the Law Commission of India had recommended deletion of Section 115. In the Law Commission\\'s opinion, provisions of Section 115 are analogous to provisions of Article 227 of the Constitution of India, 1950 (in short \\'the Constitution\\') and the litigants would not be prejudiced in any way if the entire Section is deleted. The Joint Committee of the Parliament discussed these recommendations and only thought it proper to make certain modifications in the Section. That led to amendment of Section 115 by Old Amendment Act. The deliberations of the Committee are reflected in the following words:\\n \"The Committee, however, feel; that, in addition to the restrictions contained in section 115, an overall restriction on the scope of applications for revision against interlocutory orders should be imposed. Having regard to the recommendations made by the Law Commission in its Fourteenth and Twenty-Seventh Reports, the Committee recommended that Section 115 of the Code should be retained subject to the modification that no revision application shall lie against an interlocutory order unless either of the following conditions is satisfied, namely:-\\ni. that if the orders were made in favour of the applicant, it would finally dispose of the suit or other proceeding; or ii. that the order, if allowed to stand, is likely to occasion a failure of justice or cause in irreparable injury.\" \\n\\n First aspect that has to be considered is the respective scope of appeal and revision. It is fairly a well settled position in law that the right of appeal is a substantive right. But there is no such substantive right in making an application under Section 115. Though great emphasis was laid on certain observations in Shankar Ramchandra Abhyankar v. Krishnaji Dattatraya Bapat (AIR 1970 SC 1) to contend that appeal and revision stand on the same pedestal, it is difficult to accept the proposition. The observations in the said case are being read out of context. What was held in that case related to the exercise of power of a higher court, and in that context the nature of consideration in appeal and revision was referred to. It was never held in that case that appeal is equated to a revision. \\n\\n Section 115 is essentially a source of power for the High Court to supervise the subordinate courts. It does not in any way confer a right on a litigant aggrieved by any order of the subordinate court to approach the High Court for relief. The scope for making a revision under Section 115 is not linked with a substantive right. \\n\\nLanguage of Sections 96 and 100 of the Code which deal with appeals can be compared with Section 115 of the Code. While in the former two provisions specifically provide for right of appeal, the same is not the position vis--vis section 115. It does not speak of an application being made by a person aggrieved by an order of subordinate court. As noted above, it is a source of power of the High Court to have effective control on the functioning of the subordinate courts by exercising supervisory power. \\n\\n An appeal is essentially continuation of the original proceedings and the provisions applied at the time of institution of the suit are to be operative even in respect of the appeals. That is because there is a vested right in the litigant to avail the remedy of an appeal. As was observed in K. Eapen Chako v. The Provident Investment Company (P) Ltd. (AIR 1976 SC 2610) only in cases where vested rights are involved, a legislation has to be interpreted to mean as one affecting such right to be prospectively operative. The right of appeal is only by statute. It is necessary part of the procedure in an action, but \"the right of entering a superior court and invoking its aid and interposition to redress the error of the courts below. It seems to this paramount right, part of the progress of the inferior tribunal.\" (Per Westbury See: AG vs. SILLEM 33 J.Ex 209). The appeal, strictly so called, is one in which the question is, whether the order of the Court from which the appeal is brought was right on the materials which that Court had before it\" (Per Lord Devuil Ponnamal vs. Arumogam 1905 AC 390). The right of appeal, where it exists, as a matter of substance and not of procedure (Colonial Sugar Refining Company vs. Irtin 1905 AC 368). \\n\\nRight of appeal is statutory. Right of appeal inherits in no one. When conferred by statute it becomes a vested right. In this regard there is essential distinction between right of appeal and right of suit. Where there is inherent right in every person to file a suit and for its maintainability it requires no authority of law, appeal requires so. As was observed in The State of Kerala vs. K.M. Charia Abdulla and Co. (AIR 1965 SC 1585), the distinction between right of appeal and revision is based on differences implicit in the two expressions. An appeal is continuation of the proceedings; in effect the entire proceedings are before the appellate authority and it has power to review the evidence subject to statutory limitations prescribed. But in the case of revision, whatever powers the revisional authority may or may not have, it has no power to review the evidence, unless the statute expressly confers on it that power. It was noted by the four-Judges Bench in Hari Shankar and others vs. Rao Girdhari Lal Chowdhury (AIR 1963 SC 698) that the distinction between an appeal and a revision is a real one. A right of appeal carries with it a right of re-hearing on law as well as fact, unless the statute conferring the right of appeal limits the re-hearing in some way, as has been done in second appeals arising under the Code. The power of hearing revision is generally given to a superior Court so that it may satisfy itself that a particular case has been decided according to law. Reference was made to Section 115 of the Code to hold that the High Court\\'s powers under the said provision are limited to certain particular categories of cases. The right there is confined to jurisdiction and jurisdiction alone. \\n\\nAs regards the field of operation of amended provision, it is to be noted that the language of amended provision is clear. \\n\\n It is well settled principle in law that the Court cannot read anything into a statutory provision which is plain and unambiguous. A statute is an edict of the Legislature. The language employed in a statute is the determinative factor of legislative intent. Words and phrases are symbols that stimulate mental references to referents. The object of interpreting a statute is to ascertain the intention of the Legislature enacting it. (See Institute of Chartered Accountants of India v. M/s Price Waterhouse and Anr. (AIR 1998 SC 74)) The intention of the Legislature is primarily to be gathered from the language used, which means that attention should be paid to what has been said as also to what has not been said. As a consequence, a construction which requires for its support, addition or substitution of words or which results in rejection of words as meaningless has to be avoided. As observed in Crawford v. Spooner (1846 (6) Moore PC 1), Courts, cannot aid the Legislatures\\' defective phrasing of an Act, we cannot add or mend, and by construction make up deficiencies which are left there. (See The State of Gujarat and Ors. v. Dilipbhai Nathjibhai Patel and Anr. (JT 1998 (2) SC 253)). It is contrary to all rules of construction to read words into an Act unless it is absolutely necessary to do so. (See Stock v. Frank Jones (Tiptan) Ltd. (1978 1 All ER 948 (HL). Rules of interpretation do not permit Courts to do so, unless the provision as it stands is meaningless or of doubtful meaning. Courts are not entitled to read words into an Act of Parliament unless clear reason for it is to be found within the four corners of the Act itself. (Per Lord Loreburn L.C. in Vickers Sons and Maxim Ltd. v. Evans (1910) AC 445 (HL), quoted in Jamma Masjid, Mercara v. Kodimaniandra Deviah and Ors.(AIR 1962 SC 847). \\n\\nThe question is not what may be supposed and has been intended but what has been said. \"Statutes should be construed not as theorems of Euclid\". Judge Learned Hand said, \"but words must be construed with some imagination of the purposes which lie behind them\". (See Lenigh Valley Coal Co. v. Yensavage 218 FR 547). The view was re-iterated in Union of India and Ors. v. Filip Tiago De Gama of Vedem Vasco De Gama (AIR 1990 SC 981). \\n\\nIn Dr. R. Venkatchalam and Ors. etc. v. Dy. Transport Commissioner and Ors. etc. (AIR 1977 SC 842), it was observed that Courts must avoid the danger of apriori determination of the meaning of a provision based on their own pre-conceived notions of ideological structure or scheme into which the provision to be interpreted is somewhat fitted. They are not entitled to usurp legislative function under the disguise of interpretation. \\n\\nWhile interpreting a provision the Court only interprets the law and cannot legislate it. If a provision of law is misused and subjected to the abuse of process of law, it is for the legislature to amend, modify or repeal it, if deemed necessary. (See Commissioner of Sales Tax, M.P. v. Popular Trading Company, Ujjain (2000 (5) SCC 515). The legislative casus omissus cannot be supplied by judicial interpretative process. \\n\\nTwo principles of construction one relating to casus omissus and the other in regard to reading the statute as a whole appear to be well settled. Under the first principle a casus omissus cannot be supplied by the Court except in the case of clear necessity and when reason for it is found in the four corners of the statute itself but at the same time a casus omissus should not be readily inferred and for that purpose all the parts of a statute or section must be construed together and every clause of a section should be construed with reference to the context and other clauses thereof so that the construction to be put on a particular provision makes a consistent enactment of the whole statute. This would be more so if literal construction of a particular clause leads to manifestly absurd or anomalous results which could not have been intended by the Legislature. \"An intention to produce an unreasonable result\", said Danackwerts, L.J. in Artemiou v. Procopiou (1966 1 QB 878), \"is not to be imputed to a statute if there is some other construction available\". Where to apply words literally would \"defeat the obvious intention of the legislation and produce a wholly unreasonable result\" we must \"do some violence to the words\" and so achieve that obvious intention and produce a rational construction. (Per Lord Reid in Luke v. IRC (1966 AC 557) where at p. 577 he also observed: \"this is not a new problem, though our standard of drafting is such that it rarely emerges\". It is then true that, \"when the words of a law extend not to an inconvenience rarely happening, but do to those which often happen, it is good reason not to strain the words further than they reach, by saying it is casus omissus, and that the law intended quae frequentius accidunt.\" \"But,\" on the other hand,\"it is no reason, when the words of a law do enough extend to an inconvenience seldom happening, that they should not extend to it as well as if it happened more frequently, because it happens but seldom\" (See Fenton v. Hampton 11 Moore, P.C. 345). A casus omissus ought not to be created by interpretation, save in some case of strong necessity. Where, however, a casus omissus does really occur, either through the inadvertence of the legislature, or on the principle quod semel aut bis existit proetereunt legislatores, the rule is that the particular case, thus left unprovided for, must be disposed of according to the law as it existed before such statute - Casus omissus et oblivioni datus dispositioni communis juris relinquitur; \"a casus omissus,\" observed Buller, J. in Jones v. Smart (1 T.R. 52), \"can in no case be supplied by a court of law, for that would be to make laws.\" \\n\\nThe golden rule for construing wills, statutes, and, in fact, all written instruments has been thus stated: \"The grammatical and ordinary sense of the words is to be adhered to unless that would lead to some absurdity or some repugnance or inconsistency with the rest of the instrument, in which case the grammatical and ordinary sense of the words may be modified, so as to avoid that absurdity and inconsistency, but no further\" (See Grey v. Pearson 6 H.L. Cas. 61). The latter part of this \"golden rule\" must, however, be applied with much caution. \"if,\" remarked Jervis, C.J., \"the precise words used are plain and unambiguous in our judgment, we are bound to construe them in their ordinary sense, even though it lead, in our view of the case, to an absurdity or manifest injustice. Words may be modified or varied where their import is doubtful or obscure. But we assume the functions of legislators when we depart from the ordinary meaning of the precise words used, merely because we see, or fancy we see, an absurdity or manifest injustice from an adherence to their literal meaning\" (See Abley v. Dale 11, C.B. 378). \\n\\nAt this juncture, it would be necessary to take note of a maxim \"Ad ea quae frequentius accidunt jura adaptantur\" (The laws are adapted to those cases which more frequently occur). \\n\\nLaws ought to be, and usually are, framed with a view to such cases as are of frequent rather than such as are of rare or accidental occurrence; or, in the language of the civil law, jus constitui oportet in his quoe ut plurimum accidunt, non quoe ex inopinato; for, neque leges neque senatusconsulta ita scribi possunt ut omnes casus qui quandoque inciderint comprehendantur, sed sufficit ea quoe plerumque accident contineri; laws cannot be so worded as to include every case which may arise, but it is sufficient if they apply to those things which most frequently happen. All legislation proceeds upon the principle of providing for the ordinary course of things, and to this principle frequent reference is to be found, in the reports, in answer to arguments, often speciously advanced, that the words of an Act cannot have a particular meaning, because in a certain contingency that meaning might work a result of which nobody would approve. In Miller v. Salomons (7 Exch. 475) it was argued that Parliament could not have intended that a Jew, before sitting in the House of Commons, must use the words \"on the true faith of a Christian,\" prescribed in the oath of abjuration of 6 Geo. 3, c.53, because any person, refusing to take the same oath when tendered by two justices, would, under the 1 Geo. 1, st.2, c.13, be deemed to be a popish recusant, and would be liable to penalties as such; and to enforce these provisions against a Jew, it was said, would be the merest tyranny. But Baron Parke thus replied to this argument: -\"If in the vast majority of possible cases in all of ordinary occurrence the law is in no degree inconsistent or unreasonable construed according to its plain words, it seems to me to be an untenable proposition, and unsupported by authority, to say that the construction may be varied in every case, because there is one possible but highly improbably one in which the law would operate with great severity, and against our own notions of justice. The utmost that can be reasonably contended is, that it should be varied in that particular case, so as to obviate that injustice no further.\" \\n\\nAppeal is the right of entering a superior Court and invoking its aid and interposition to redress the error of the court below. (per Westbury C., A.G. v. Sillem, 10 HLC 704 = 33 LJ ex.209). \\n\\n\"Appeal\", is defined in the Oxford Dictionary, volume I, page 398, as the transference of a case from an inferior to a higher Court or tribunal in the hope of reversing or modifying the decision of the former. In the Law Dictionary by Sweet, the term \"appeal\" is defined as a proceeding taken to rectify an erroneous decision of a Court by submitting the question to a higher Court or Court of appeal, and it is added that the term, therefore, includes, in addition to the proceedings specifically so called, the cases stated for the opinion of the Queen\\'s Bench Division and the Court of Crown Cases reserved, and proceedings in error. In the Law Dictionary by Bouvier an appeal is defined as the removal of a case from a Court of inferior to one of superior jurisdiction for the purpose of obtaining a review and re-trial, and it is explained that in its technical sense it differs from a writ of error in this, that it subjects both the law and the facts to a review and re- trial, while the latter is a Common Law process which involves matter of law only for re-examination; it is added, however, that the term \"appeal\" is used in a comprehensive sense so as to include both what is described technically as an appeal and also the common law writ of error. As Mr. Justice Subramania Ayyar observes in Chappan v. Moidin, 22 Mad 68 at p.80 the two things which are required to constitute appellate jurisdiction are the existence of the relation of superior and inferior Court and the power, on the part of the former, to review decisions of the latter. \\n\\n Sub-section (2) of Section 115 has remained unaltered even after the amendment by the Amendment Act. A new sub- section (3) has been added in Section 115 by the Amendment Act which states that revision shall not operate as a stay of suit or other proceeding before the Court except where such suit or other proceeding is stayed by the High Court. \\n\\n In Section 2, the expressions \\'decree\\' and \\'order\\' have been defined in clauses (2) and (14) respectively. It is to be noted that it matters little that the judgment is styled as an \"order\". If, in fact, it fulfils the conditions of the definition under Section 2(2), it is a decree and becomes appealable. Orders that are not appealable are, generally speaking, those which are procussual i.e. interlocutory or incidental orders regulating proceedings but not deciding any of the matters of controversy in the suit. Order 43 deals with the \"appeals from orders\". These appeals lie under Section 104 of the Code. The said Section deals with appeals from orders and specifies the orders from which appeals can lie. Sub-section (2) of Section 104 says that no appeal shall lie from any order passed in appeal under the said Section. Section 104 and Order 43 Rule I contain a full list of appealable orders. An order which amounts to a decree within Section 2(2) does not fall within Section 104 and the only applicable section is Section 96. Clauses (a) to (f) of Section 104 were omitted by Arbitration Act 1940. Section 105 relates to other orders. It, inter alia, relates to any order i.e. so appealable as well as non-appelable orders. It is in the nature of a prohibition stipulating that save as otherwise expressly provided, no appeal shall lie from any order made by a Court in exercise of original or appellate jurisdiction; but where a decree is appealed from, any error, defect or irregularity in any order, affecting the decision of the case, may be set forth as a ground of objection in the memorandum of appeal. Sub-section (2) deals with case of remand. This section, in fact, contemplates two things i.e. (1) regular appeal from decree; and (2) the provision relating to grant of objection relating to interim order. Order 43 Rule 1 is an integral part of Section 104. \\n\\nA plain reading of Section 115 as it stands makes it clear that the stress is on the question whether the order in favour of the party applying for revision would have given finality to suit or other proceeding. If the answer is \\'yes\\' then the revision is maintainable. But on the contrary, if the answer is \\'no\\' then the revision is not maintainable. Therefore, if the impugned order is of interim in nature or does not finally decide the lis, the revision will not be maintainable. The legislative intent is crystal clear. Those orders, which are interim in nature, cannot be the subject matter of revision under Section 115. There is marked distinction in language of Section 97(3) of the Old Amendment Act and Section 32(2)(i) of the Amendment Act. While in the former, there was clear legislative intent to save applications admitted or pending before the amendment came into force. Such an intent is significantly absent in Section 32(2)(i). The amendment relates to procedures. No person has a vested right in a course of procedure. He has only the right of proceeding in the manner prescribed. If by a statutory change the mode of procedure is altered the parties are to proceed according to the altered mode, without exception, unless there is a different stipulation. \\n\\n Section 6 of the General Clauses Act has no application because there is no substantive vested right available to a party seeking revision under Section 115 of the Code. In Kolhapur Canesugar Works Ltd. and another vs. Union of India and others (AIR 2000 SC 811), it was observed that if a provision of statute is unconditionally omitted without a saving clause in favour of pending proceedings, all actions must stop where the omission finds them, and if final relief has not been granted before the omission goes into effect, there is no scope for granting it afterwards. There is modification of this position by application of Section 6 of the General Clauses Act or by making special provisions. Operation of repeal or deletion as to the future and the past largely depends on the savings applicable. In a case where a particular provision in the statute is omitted and in its place another provision dealing with the same contingency is introduced without a saving clause in favour of pending proceedings, then it can be reasonably inferred that the intention of the legislature is that the pending proceedings shall continue but a fresh proceeding for the same purpose may be initiated under the new provision. \\n\\n In view of what has been stated above the inevitable conclusion is that the High Courts were right in the conclusion about non-maintainability of revision applications. \\n\\n It was submitted by learned counsel for the appellants that even if the revision applications are held to be not maintainable, there should not be a bar on challenge being made under Section 227 of the Constitution. It was submitted that an opportunity may be granted to the appellants to avail the remedy. \\n\\n If any remedy is available to a party under any statute no liberty is necessary to be granted for availing the same. If the appellants avail such remedy, the same shall be dealt with in accordance with law. \\n\\n The appeals are dismissed. No costs.'"
      ]
    },
    {
      "cell_type": "code",
      "execution_count": null,
      "metadata": {
        "colab": {
          "base_uri": "https://localhost:8080/",
          "height": 1000
        },
        "id": "c8wkKfVJyxGW",
        "outputId": "48cc9813-5cc2-49a7-9e6d-e2b12f1277f6"
      },
      "outputs": [
        {
          "data": {
            "text/html": [
              "<span class=\"tex2jax_ignore\"><div class=\"entities\" style=\"line-height: 2.5; direction: ltr\">Petitioner:</br>\n",
              "<mark class=\"entity\" style=\"background: #f570ea; padding: 0.45em 0.6em; margin: 0 0.25em; line-height: 1; border-radius: 0.35em;\">\n",
              "    Shiv Shakti Coop\n",
              "    <span style=\"font-size: 0.8em; font-weight: bold; line-height: 1; border-radius: 0.35em; vertical-align: middle; margin-left: 0.5rem\">PETITIONER</span>\n",
              "</mark>\n",
              ". Housing Society, Nagpur</br></br>Respondent:</br>M/s. \n",
              "<mark class=\"entity\" style=\"background: #f570ea; padding: 0.45em 0.6em; margin: 0 0.25em; line-height: 1; border-radius: 0.35em;\">\n",
              "    Swaraj Developers\n",
              "    <span style=\"font-size: 0.8em; font-weight: bold; line-height: 1; border-radius: 0.35em; vertical-align: middle; margin-left: 0.5rem\">PETITIONER</span>\n",
              "</mark>\n",
              " &amp; Ors.</br></br>Date Of Judgment : \n",
              "<mark class=\"entity\" style=\"background: #b1ecf7; padding: 0.45em 0.6em; margin: 0 0.25em; line-height: 1; border-radius: 0.35em;\">\n",
              "    17/04/2003\n",
              "    <span style=\"font-size: 0.8em; font-weight: bold; line-height: 1; border-radius: 0.35em; vertical-align: middle; margin-left: 0.5rem\">DATE</span>\n",
              "</mark>\n",
              " BENCH:</br>\n",
              "<mark class=\"entity\" style=\"background: #f570ea; padding: 0.45em 0.6em; margin: 0 0.25em; line-height: 1; border-radius: 0.35em;\">\n",
              "    SHIVARAJ V. PATIL\n",
              "    <span style=\"font-size: 0.8em; font-weight: bold; line-height: 1; border-radius: 0.35em; vertical-align: middle; margin-left: 0.5rem\">PETITIONER</span>\n",
              "</mark>\n",
              " &amp; ARIJIT PASAYAT.</br></br>JUDGMENT:</br>J U D G M E N T (Arising Out of S.L.P. (C) No. 19030 of 2002) \n",
              "<mark class=\"entity\" style=\"background: #fbb1cf; padding: 0.45em 0.6em; margin: 0 0.25em; line-height: 1; border-radius: 0.35em;\">\n",
              "    WITH Civil Appeal No. 3489\n",
              "    <span style=\"font-size: 0.8em; font-weight: bold; line-height: 1; border-radius: 0.35em; vertical-align: middle; margin-left: 0.5rem\">CASE_NUMBER</span>\n",
              "</mark>\n",
              " [email protected] S.L.P.(C)No.19852/2002, \n",
              "<mark class=\"entity\" style=\"background: #fbb1cf; padding: 0.45em 0.6em; margin: 0 0.25em; line-height: 1; border-radius: 0.35em;\">\n",
              "    Civil Appeal Nos.3494-98/[email protected] S.L.P.(C)Nos.22848-22852/2002\n",
              "    <span style=\"font-size: 0.8em; font-weight: bold; line-height: 1; border-radius: 0.35em; vertical-align: middle; margin-left: 0.5rem\">CASE_NUMBER</span>\n",
              "</mark>\n",
              ", and \n",
              "<mark class=\"entity\" style=\"background: #fbb1cf; padding: 0.45em 0.6em; margin: 0 0.25em; line-height: 1; border-radius: 0.35em;\">\n",
              "    Civil Appeal No. 3499/[email protected] S.L.P.(C) No.22009/2002\n",
              "    <span style=\"font-size: 0.8em; font-weight: bold; line-height: 1; border-radius: 0.35em; vertical-align: middle; margin-left: 0.5rem\">CASE_NUMBER</span>\n",
              "</mark>\n",
              "] \n",
              "<mark class=\"entity\" style=\"background: #fdd8a5; padding: 0.45em 0.6em; margin: 0 0.25em; line-height: 1; border-radius: 0.35em;\">\n",
              "    ARIJIT PASAYAT\n",
              "    <span style=\"font-size: 0.8em; font-weight: bold; line-height: 1; border-radius: 0.35em; vertical-align: middle; margin-left: 0.5rem\">JUDGE</span>\n",
              "</mark>\n",
              ",J. </br></br> Leave granted. </br></br> A short but important question of law involving effect of amendment to \n",
              "<mark class=\"entity\" style=\"background: yellow; padding: 0.45em 0.6em; margin: 0 0.25em; line-height: 1; border-radius: 0.35em;\">\n",
              "    Section 115\n",
              "    <span style=\"font-size: 0.8em; font-weight: bold; line-height: 1; border-radius: 0.35em; vertical-align: middle; margin-left: 0.5rem\">PROVISION</span>\n",
              "</mark>\n",
              " of the \n",
              "<mark class=\"entity\" style=\"background: #faea99; padding: 0.45em 0.6em; margin: 0 0.25em; line-height: 1; border-radius: 0.35em;\">\n",
              "    Code of Civil Procedure, 1908\n",
              "    <span style=\"font-size: 0.8em; font-weight: bold; line-height: 1; border-radius: 0.35em; vertical-align: middle; margin-left: 0.5rem\">STATUTE</span>\n",
              "</mark>\n",
              " (in short 'the Code') is involved in these appeals. Since the answer to the question does not involve any factual adjudication, a brief reference thereto would suffice. </br></br> By \n",
              "<mark class=\"entity\" style=\"background: yellow; padding: 0.45em 0.6em; margin: 0 0.25em; line-height: 1; border-radius: 0.35em;\">\n",
              "    Section 12(i)\n",
              "    <span style=\"font-size: 0.8em; font-weight: bold; line-height: 1; border-radius: 0.35em; vertical-align: middle; margin-left: 0.5rem\">PROVISION</span>\n",
              "</mark>\n",
              " of the \n",
              "<mark class=\"entity\" style=\"background: #faea99; padding: 0.45em 0.6em; margin: 0 0.25em; line-height: 1; border-radius: 0.35em;\">\n",
              "    Code of Civil Procedure (Amendment) Act, 1999\n",
              "    <span style=\"font-size: 0.8em; font-weight: bold; line-height: 1; border-radius: 0.35em; vertical-align: middle; margin-left: 0.5rem\">STATUTE</span>\n",
              "</mark>\n",
              " (in short 'the Amendment Act') operative from \n",
              "<mark class=\"entity\" style=\"background: #b1ecf7; padding: 0.45em 0.6em; margin: 0 0.25em; line-height: 1; border-radius: 0.35em;\">\n",
              "    1.7.2002\n",
              "    <span style=\"font-size: 0.8em; font-weight: bold; line-height: 1; border-radius: 0.35em; vertical-align: middle; margin-left: 0.5rem\">DATE</span>\n",
              "</mark>\n",
              ", amendments were made to \n",
              "<mark class=\"entity\" style=\"background: yellow; padding: 0.45em 0.6em; margin: 0 0.25em; line-height: 1; border-radius: 0.35em;\">\n",
              "    Section 115\n",
              "    <span style=\"font-size: 0.8em; font-weight: bold; line-height: 1; border-radius: 0.35em; vertical-align: middle; margin-left: 0.5rem\">PROVISION</span>\n",
              "</mark>\n",
              " of the Code. In all these appeals, the concerned High Courts held that because of amended \n",
              "<mark class=\"entity\" style=\"background: yellow; padding: 0.45em 0.6em; margin: 0 0.25em; line-height: 1; border-radius: 0.35em;\">\n",
              "    Section 115\n",
              "    <span style=\"font-size: 0.8em; font-weight: bold; line-height: 1; border-radius: 0.35em; vertical-align: middle; margin-left: 0.5rem\">PROVISION</span>\n",
              "</mark>\n",
              ", the revision filed before them was not maintainable, as had an order been passed in favour of the party applying for revision, same would not have finally disposed of the suit or other proceeding. </br></br> It has been contended by learned counsel for the appellants that the High Court went wrong in disposing of the revision applications as not maintainable, on several grounds. They are (i) the amended provisions do not apply to petitions which were admitted before the amendment, (ii) appeals and revisions stand on a parallel footing and are vested rights in the appellant/applicant, as the case may be, and as such the amended provisions would not have any application, and (iii) the applications for injunction and the like which form subject matter of the revisions relate to the expression 'other proceeding' and even if the amended provisions apply disposal of the revision would have meant final dismissal of such 'other proceeding'. </br></br> With reference to \n",
              "<mark class=\"entity\" style=\"background: yellow; padding: 0.45em 0.6em; margin: 0 0.25em; line-height: 1; border-radius: 0.35em;\">\n",
              "    Section 32(2)(i)\n",
              "    <span style=\"font-size: 0.8em; font-weight: bold; line-height: 1; border-radius: 0.35em; vertical-align: middle; margin-left: 0.5rem\">PROVISION</span>\n",
              "</mark>\n",
              " of the Amendment Act, it is submitted that the same does not convey any meaning. The legislature always saved pending proceedings in terms of \n",
              "<mark class=\"entity\" style=\"background: yellow; padding: 0.45em 0.6em; margin: 0 0.25em; line-height: 1; border-radius: 0.35em;\">\n",
              "    Section 6\n",
              "    <span style=\"font-size: 0.8em; font-weight: bold; line-height: 1; border-radius: 0.35em; vertical-align: middle; margin-left: 0.5rem\">PROVISION</span>\n",
              "</mark>\n",
              " of the \n",
              "<mark class=\"entity\" style=\"background: #faea99; padding: 0.45em 0.6em; margin: 0 0.25em; line-height: 1; border-radius: 0.35em;\">\n",
              "    General Clauses Act, 1897\n",
              "    <span style=\"font-size: 0.8em; font-weight: bold; line-height: 1; border-radius: 0.35em; vertical-align: middle; margin-left: 0.5rem\">STATUTE</span>\n",
              "</mark>\n",
              " (in short '\n",
              "<mark class=\"entity\" style=\"background: #faea99; padding: 0.45em 0.6em; margin: 0 0.25em; line-height: 1; border-radius: 0.35em;\">\n",
              "    General Clauses Act\n",
              "    <span style=\"font-size: 0.8em; font-weight: bold; line-height: 1; border-radius: 0.35em; vertical-align: middle; margin-left: 0.5rem\">STATUTE</span>\n",
              "</mark>\n",
              "') and, therefore, proceedings which were pending before the High Court on the date of amendment are clearly outside the effect of amendment. Even if it is conceded for the sake of arguments that there is no specific provision in that regard, it is clearly a case of casus omissus. </br></br> In response, learned counsel for the respondents submitted that plain meaning of provisions of a statute have to be given full effect and even a bare reading of the provisions makes it clear that the High Court's order is on terra firma. Whenever the legislature intended to keep the pending proceedings out of the purview of amended provisions, it was specifically so provided. Reference is made to the amendment in 1976 to the Code which in \n",
              "<mark class=\"entity\" style=\"background: yellow; padding: 0.45em 0.6em; margin: 0 0.25em; line-height: 1; border-radius: 0.35em;\">\n",
              "    Section 97(3)\n",
              "    <span style=\"font-size: 0.8em; font-weight: bold; line-height: 1; border-radius: 0.35em; vertical-align: middle; margin-left: 0.5rem\">PROVISION</span>\n",
              "</mark>\n",
              " of the \n",
              "<mark class=\"entity\" style=\"background: #faea99; padding: 0.45em 0.6em; margin: 0 0.25em; line-height: 1; border-radius: 0.35em;\">\n",
              "    Code of Civil Procedure (Amendment) Act, 1976\n",
              "    <span style=\"font-size: 0.8em; font-weight: bold; line-height: 1; border-radius: 0.35em; vertical-align: middle; margin-left: 0.5rem\">STATUTE</span>\n",
              "</mark>\n",
              " (in short 'Old Amendment Act') saved the pending proceedings, ruling out operation of \n",
              "<mark class=\"entity\" style=\"background: yellow; padding: 0.45em 0.6em; margin: 0 0.25em; line-height: 1; border-radius: 0.35em;\">\n",
              "    Section 6\n",
              "    <span style=\"font-size: 0.8em; font-weight: bold; line-height: 1; border-radius: 0.35em; vertical-align: middle; margin-left: 0.5rem\">PROVISION</span>\n",
              "</mark>\n",
              " of the \n",
              "<mark class=\"entity\" style=\"background: #faea99; padding: 0.45em 0.6em; margin: 0 0.25em; line-height: 1; border-radius: 0.35em;\">\n",
              "    General Clauses Act\n",
              "    <span style=\"font-size: 0.8em; font-weight: bold; line-height: 1; border-radius: 0.35em; vertical-align: middle; margin-left: 0.5rem\">STATUTE</span>\n",
              "</mark>\n",
              ". </br></br> In order to appreciate the rival submissions it will be necessary to take note of the provisions of \n",
              "<mark class=\"entity\" style=\"background: yellow; padding: 0.45em 0.6em; margin: 0 0.25em; line-height: 1; border-radius: 0.35em;\">\n",
              "    Section 115\n",
              "    <span style=\"font-size: 0.8em; font-weight: bold; line-height: 1; border-radius: 0.35em; vertical-align: middle; margin-left: 0.5rem\">PROVISION</span>\n",
              "</mark>\n",
              " as they stood before amendment and after amendment. </br></br> &quot;\n",
              "<mark class=\"entity\" style=\"background: yellow; padding: 0.45em 0.6em; margin: 0 0.25em; line-height: 1; border-radius: 0.35em;\">\n",
              "    Section 115 (before Amendment):\n",
              " (1)\n",
              "    <span style=\"font-size: 0.8em; font-weight: bold; line-height: 1; border-radius: 0.35em; vertical-align: middle; margin-left: 0.5rem\">PROVISION</span>\n",
              "</mark>\n",
              " The High Court may call for the record of any case which has been decided by any Court subordinate to such High Court and in which no appeal lies thereto, and if such subordinate court appears (a) to have exercised a jurisdiction not vested in it by law, or (b) to have failed to exercise a jurisdiction so vested, or (c) to have acted in the exercise of its jurisdiction illegally or with material irregularity, the High Court may make such order in the case as it thinks fit:</br>Provided that the High Court shall not, under this section, vary or reverse any order made, or any order deciding an issue, in the course of a suit or order proceeding, except where (a) the order, if it had been made in favour of the party applying for revision, would have finally disposed of the suit or other proceeding, or (b) the order, if allowed to stand, would occasion a failure of justice or cause irreparable injury to the party against whom it was made. </br></br>(2) The High Court shall not, under this section, vary or reverse any decree or order against which an appeal lies either to the High Court or to any Court subordinate thereto. </br></br>Explanation: In this section, the expression &quot;Any case which has been decided: includes any order made, or any order deciding an issue, in the course of a suit or other proceeding.&quot; </br></br>\n",
              "<mark class=\"entity\" style=\"background: yellow; padding: 0.45em 0.6em; margin: 0 0.25em; line-height: 1; border-radius: 0.35em;\">\n",
              "    Section 115 (after Amendment):\n",
              " (1)\n",
              "    <span style=\"font-size: 0.8em; font-weight: bold; line-height: 1; border-radius: 0.35em; vertical-align: middle; margin-left: 0.5rem\">PROVISION</span>\n",
              "</mark>\n",
              " The High Court may call for the record of any case which has been decided by any Court subordinate to such High Court and in which no appeal lies thereto, and if such subordinate court appears (a) to have exercised a jurisdiction not vested in it by law, or (b) to have failed to exercise a jurisdiction so vested. </br></br>(c) to have acted in the exercise of its jurisdiction illegally or with material irregularity, the High Court may make such order in the case as it thinks fit:</br>Provided that the High Court shall not, under this section, vary or reverse any order made, or any order deciding an issue, in the course of a suit or order proceeding, except where the order, if it had been made in favour of the party applying for revision, would have finally disposed of the suit or other proceedings. </br></br>(2) The High Court shall not, under this section, vary or reverse any decree or order against which an appeal lies either to the High Court or to any Court subordinate thereto. </br></br>(3) A revision shall not operate as a stay of suit or other proceeding before the Court except where such suit or other proceeding is stayed by the High Court. </br></br>Explanation: In this section, the expression &quot;any case which has been decided&quot; includes any order made, or any order deciding the issue, in the course of a suit or other proceeding.&quot; </br></br> A comparison of two provisions shows that while proviso (a) of the un-amended provision has been retained in its totality, in the amended provisions \n",
              "<mark class=\"entity\" style=\"background: yellow; padding: 0.45em 0.6em; margin: 0 0.25em; line-height: 1; border-radius: 0.35em;\">\n",
              "    clause (b)\n",
              "    <span style=\"font-size: 0.8em; font-weight: bold; line-height: 1; border-radius: 0.35em; vertical-align: middle; margin-left: 0.5rem\">PROVISION</span>\n",
              "</mark>\n",
              " of the proviso has been omitted. </br></br> It is to be noted that prior to the amendments to the Code by the Old Amendment Act, the power of revision was wider. By the amendment, certain positive restrictions were put on the High Court's power to deal with revisions under \n",
              "<mark class=\"entity\" style=\"background: yellow; padding: 0.45em 0.6em; margin: 0 0.25em; line-height: 1; border-radius: 0.35em;\">\n",
              "    Section 115\n",
              "    <span style=\"font-size: 0.8em; font-weight: bold; line-height: 1; border-radius: 0.35em; vertical-align: middle; margin-left: 0.5rem\">PROVISION</span>\n",
              "</mark>\n",
              ". Prior to the said amendment, it was not strictly necessary that the impugned order would have the result of finally deciding the lis or the proceedings in the lower courts. In fact, the power could be exercised in any case where jurisdictional error was committed by the original court or where substantial injustice had resulted. By the Old Amendment Act, the condition of finally deciding of lis and the proceedings in the subordinate courts was introduced. The proviso which was introduced contains qualifications which are pre-requisites before exercise of power under \n",
              "<mark class=\"entity\" style=\"background: yellow; padding: 0.45em 0.6em; margin: 0 0.25em; line-height: 1; border-radius: 0.35em;\">\n",
              "    Section 115\n",
              "    <span style=\"font-size: 0.8em; font-weight: bold; line-height: 1; border-radius: 0.35em; vertical-align: middle; margin-left: 0.5rem\">PROVISION</span>\n",
              "</mark>\n",
              ". They were \n",
              "<mark class=\"entity\" style=\"background: yellow; padding: 0.45em 0.6em; margin: 0 0.25em; line-height: 1; border-radius: 0.35em;\">\n",
              "    clauses (a) and (b) of the proviso.\n",
              "    <span style=\"font-size: 0.8em; font-weight: bold; line-height: 1; border-radius: 0.35em; vertical-align: middle; margin-left: 0.5rem\">PROVISION</span>\n",
              "</mark>\n",
              " \n",
              "<mark class=\"entity\" style=\"background: #b0f6a2; padding: 0.45em 0.6em; margin: 0 0.25em; line-height: 1; border-radius: 0.35em;\">\n",
              "    Logically\n",
              "    <span style=\"font-size: 0.8em; font-weight: bold; line-height: 1; border-radius: 0.35em; vertical-align: middle; margin-left: 0.5rem\">OTHER_PERSON</span>\n",
              "</mark>\n",
              ", the High Court has suo motu power to revise an order where total failure of justice would have occasioned or where irreparable loss would have caused to the parties against whom it was made. These powers were retained by \n",
              "<mark class=\"entity\" style=\"background: yellow; padding: 0.45em 0.6em; margin: 0 0.25em; line-height: 1; border-radius: 0.35em;\">\n",
              "    clause (b). Though, after 1976\n",
              "    <span style=\"font-size: 0.8em; font-weight: bold; line-height: 1; border-radius: 0.35em; vertical-align: middle; margin-left: 0.5rem\">PROVISION</span>\n",
              "</mark>\n",
              ", the exercise of power was somewhat circumscribed, it was not totally curtailed. In other words, the High Court could even after the 1976 amendment interfere in cases where there was failure of justice or irreparable loss caused, the nature of the proceedings was substantially changed and the suo motu power of the High Court was retained. It was in the nature of power of superintendence of the High Court over the subordinate courts. Changes were related to indicating limitations in exercise of power. </br></br> Even after the amendments in 1976, in 1999 and prior to the amendment in 1976, the revision power was exercisable in a case where the order or the decree, as the case may be, was not appealable. </br></br> \n",
              "<mark class=\"entity\" style=\"background: yellow; padding: 0.45em 0.6em; margin: 0 0.25em; line-height: 1; border-radius: 0.35em;\">\n",
              "    Sub-section (2)\n",
              "    <span style=\"font-size: 0.8em; font-weight: bold; line-height: 1; border-radius: 0.35em; vertical-align: middle; margin-left: 0.5rem\">PROVISION</span>\n",
              "</mark>\n",
              " which was introduced by the Old Amendment Act and retained even after present amendment, provides that the High Court shall not interfere where the order or the decree is appealable in courts subordinate to the High Court. </br></br> It is interesting to note that the \n",
              "<mark class=\"entity\" style=\"background: #a57db5; padding: 0.45em 0.6em; margin: 0 0.25em; line-height: 1; border-radius: 0.35em;\">\n",
              "    Law Commission of India\n",
              "    <span style=\"font-size: 0.8em; font-weight: bold; line-height: 1; border-radius: 0.35em; vertical-align: middle; margin-left: 0.5rem\">ORG</span>\n",
              "</mark>\n",
              " had recommended deletion of \n",
              "<mark class=\"entity\" style=\"background: yellow; padding: 0.45em 0.6em; margin: 0 0.25em; line-height: 1; border-radius: 0.35em;\">\n",
              "    Section 115\n",
              "    <span style=\"font-size: 0.8em; font-weight: bold; line-height: 1; border-radius: 0.35em; vertical-align: middle; margin-left: 0.5rem\">PROVISION</span>\n",
              "</mark>\n",
              ". In the \n",
              "<mark class=\"entity\" style=\"background: #a57db5; padding: 0.45em 0.6em; margin: 0 0.25em; line-height: 1; border-radius: 0.35em;\">\n",
              "    Law Commission\n",
              "    <span style=\"font-size: 0.8em; font-weight: bold; line-height: 1; border-radius: 0.35em; vertical-align: middle; margin-left: 0.5rem\">ORG</span>\n",
              "</mark>\n",
              "'s opinion, provisions of \n",
              "<mark class=\"entity\" style=\"background: yellow; padding: 0.45em 0.6em; margin: 0 0.25em; line-height: 1; border-radius: 0.35em;\">\n",
              "    Section 115\n",
              "    <span style=\"font-size: 0.8em; font-weight: bold; line-height: 1; border-radius: 0.35em; vertical-align: middle; margin-left: 0.5rem\">PROVISION</span>\n",
              "</mark>\n",
              " are analogous to provisions of \n",
              "<mark class=\"entity\" style=\"background: yellow; padding: 0.45em 0.6em; margin: 0 0.25em; line-height: 1; border-radius: 0.35em;\">\n",
              "    Article 227\n",
              "    <span style=\"font-size: 0.8em; font-weight: bold; line-height: 1; border-radius: 0.35em; vertical-align: middle; margin-left: 0.5rem\">PROVISION</span>\n",
              "</mark>\n",
              " of the Constitution of India, 1950 (in short 'the \n",
              "<mark class=\"entity\" style=\"background: #faea99; padding: 0.45em 0.6em; margin: 0 0.25em; line-height: 1; border-radius: 0.35em;\">\n",
              "    Constitution\n",
              "    <span style=\"font-size: 0.8em; font-weight: bold; line-height: 1; border-radius: 0.35em; vertical-align: middle; margin-left: 0.5rem\">STATUTE</span>\n",
              "</mark>\n",
              "') and the litigants would not be prejudiced in any way if the entire Section is deleted. The Joint Committee of the \n",
              "<mark class=\"entity\" style=\"background: #a57db5; padding: 0.45em 0.6em; margin: 0 0.25em; line-height: 1; border-radius: 0.35em;\">\n",
              "    Parliament\n",
              "    <span style=\"font-size: 0.8em; font-weight: bold; line-height: 1; border-radius: 0.35em; vertical-align: middle; margin-left: 0.5rem\">ORG</span>\n",
              "</mark>\n",
              " discussed these recommendations and only thought it proper to make certain modifications in the Section. That led to amendment of \n",
              "<mark class=\"entity\" style=\"background: yellow; padding: 0.45em 0.6em; margin: 0 0.25em; line-height: 1; border-radius: 0.35em;\">\n",
              "    Section 115 by Old Amendment Act\n",
              "    <span style=\"font-size: 0.8em; font-weight: bold; line-height: 1; border-radius: 0.35em; vertical-align: middle; margin-left: 0.5rem\">PROVISION</span>\n",
              "</mark>\n",
              ". The deliberations of the Committee are reflected in the following words:</br> &quot;The Committee, however, feel; that, in addition to the restrictions contained in \n",
              "<mark class=\"entity\" style=\"background: yellow; padding: 0.45em 0.6em; margin: 0 0.25em; line-height: 1; border-radius: 0.35em;\">\n",
              "    section 115\n",
              "    <span style=\"font-size: 0.8em; font-weight: bold; line-height: 1; border-radius: 0.35em; vertical-align: middle; margin-left: 0.5rem\">PROVISION</span>\n",
              "</mark>\n",
              ", an overall restriction on the scope of applications for revision against interlocutory orders should be imposed. Having regard to the recommendations made by the Law Commission in its Fourteenth and Twenty-Seventh Reports, the Committee recommended that \n",
              "<mark class=\"entity\" style=\"background: yellow; padding: 0.45em 0.6em; margin: 0 0.25em; line-height: 1; border-radius: 0.35em;\">\n",
              "    Section 115\n",
              "    <span style=\"font-size: 0.8em; font-weight: bold; line-height: 1; border-radius: 0.35em; vertical-align: middle; margin-left: 0.5rem\">PROVISION</span>\n",
              "</mark>\n",
              " of the Code should be retained subject to the modification that no revision application shall lie against an interlocutory order unless either of the following conditions is satisfied, namely:-</br>i. that if the orders were made in favour of the applicant, it would finally dispose of the suit or other proceeding; or ii. that the order, if allowed to stand, is likely to occasion a failure of justice or cause in irreparable injury.&quot; </br></br> First aspect that has to be considered is the respective scope of appeal and revision. It is fairly a well settled position in law that the right of appeal is a substantive right. But there is no such substantive right in making an application under \n",
              "<mark class=\"entity\" style=\"background: yellow; padding: 0.45em 0.6em; margin: 0 0.25em; line-height: 1; border-radius: 0.35em;\">\n",
              "    Section 115\n",
              "    <span style=\"font-size: 0.8em; font-weight: bold; line-height: 1; border-radius: 0.35em; vertical-align: middle; margin-left: 0.5rem\">PROVISION</span>\n",
              "</mark>\n",
              ". Though great emphasis was laid on certain observations in \n",
              "<mark class=\"entity\" style=\"background: #fad6d6; padding: 0.45em 0.6em; margin: 0 0.25em; line-height: 1; border-radius: 0.35em;\">\n",
              "    Shankar Ramchandra Abhyankar v. Krishnaji Dattatraya Bapat (AIR 1970 SC 1)\n",
              "    <span style=\"font-size: 0.8em; font-weight: bold; line-height: 1; border-radius: 0.35em; vertical-align: middle; margin-left: 0.5rem\">PRECEDENT</span>\n",
              "</mark>\n",
              " to contend that appeal and revision stand on the same pedestal, it is difficult to accept the proposition. The observations in the said case are being read out of context. What was held in that case related to the exercise of power of a higher court, and in that context the nature of consideration in appeal and revision was referred to. It was never held in that case that appeal is equated to a revision. </br></br> \n",
              "<mark class=\"entity\" style=\"background: yellow; padding: 0.45em 0.6em; margin: 0 0.25em; line-height: 1; border-radius: 0.35em;\">\n",
              "    Section 115\n",
              "    <span style=\"font-size: 0.8em; font-weight: bold; line-height: 1; border-radius: 0.35em; vertical-align: middle; margin-left: 0.5rem\">PROVISION</span>\n",
              "</mark>\n",
              " is essentially a source of power for the High Court to supervise the subordinate courts. It does not in any way confer a right on a litigant aggrieved by any order of the subordinate court to approach the High Court for relief. The scope for making a revision under \n",
              "<mark class=\"entity\" style=\"background: yellow; padding: 0.45em 0.6em; margin: 0 0.25em; line-height: 1; border-radius: 0.35em;\">\n",
              "    Section 115\n",
              "    <span style=\"font-size: 0.8em; font-weight: bold; line-height: 1; border-radius: 0.35em; vertical-align: middle; margin-left: 0.5rem\">PROVISION</span>\n",
              "</mark>\n",
              " is not linked with a substantive right. </br></br>Language of Sections 96 and 100 of the Code which deal with appeals can be compared with \n",
              "<mark class=\"entity\" style=\"background: yellow; padding: 0.45em 0.6em; margin: 0 0.25em; line-height: 1; border-radius: 0.35em;\">\n",
              "    Section 115\n",
              "    <span style=\"font-size: 0.8em; font-weight: bold; line-height: 1; border-radius: 0.35em; vertical-align: middle; margin-left: 0.5rem\">PROVISION</span>\n",
              "</mark>\n",
              " of the Code. While in the former two provisions specifically provide for right of appeal, the same is not the position vis--vis \n",
              "<mark class=\"entity\" style=\"background: yellow; padding: 0.45em 0.6em; margin: 0 0.25em; line-height: 1; border-radius: 0.35em;\">\n",
              "    section 115\n",
              "    <span style=\"font-size: 0.8em; font-weight: bold; line-height: 1; border-radius: 0.35em; vertical-align: middle; margin-left: 0.5rem\">PROVISION</span>\n",
              "</mark>\n",
              ". It does not speak of an application being made by a person aggrieved by an order of subordinate court. As noted above, it is a source of power of the High Court to have effective control on the functioning of the subordinate courts by exercising supervisory power. </br></br> An appeal is essentially continuation of the original proceedings and the provisions applied at the time of institution of the suit are to be operative even in respect of the appeals. That is because there is a vested right in the litigant to avail the remedy of an appeal. As was observed in \n",
              "<mark class=\"entity\" style=\"background: #fad6d6; padding: 0.45em 0.6em; margin: 0 0.25em; line-height: 1; border-radius: 0.35em;\">\n",
              "    K. Eapen Chako v. The Provident Investment Company (P) Ltd. (AIR 1976 SC 2610)\n",
              "    <span style=\"font-size: 0.8em; font-weight: bold; line-height: 1; border-radius: 0.35em; vertical-align: middle; margin-left: 0.5rem\">PRECEDENT</span>\n",
              "</mark>\n",
              " only in cases where vested rights are involved, a legislation has to be interpreted to mean as one affecting such right to be prospectively operative. The right of appeal is only by statute. It is necessary part of the procedure in an action, but &quot;the right of entering a superior court and invoking its aid and interposition to redress the error of the courts below. It seems to this paramount right, part of the progress of the inferior tribunal.&quot; (Per Westbury See: \n",
              "<mark class=\"entity\" style=\"background: #fad6d6; padding: 0.45em 0.6em; margin: 0 0.25em; line-height: 1; border-radius: 0.35em;\">\n",
              "    AG vs. SILLEM 33 J.Ex 209)\n",
              "    <span style=\"font-size: 0.8em; font-weight: bold; line-height: 1; border-radius: 0.35em; vertical-align: middle; margin-left: 0.5rem\">PRECEDENT</span>\n",
              "</mark>\n",
              ". The appeal, strictly so called, is one in which the question is, whether the order of the Court from which the appeal is brought was right on the materials which that Court had before it&quot; (Per Lord Devuil Ponnamal vs. Arumogam 1905 AC 390). The right of appeal, where it exists, as a matter of substance and not of procedure (\n",
              "<mark class=\"entity\" style=\"background: #fad6d6; padding: 0.45em 0.6em; margin: 0 0.25em; line-height: 1; border-radius: 0.35em;\">\n",
              "    Colonial Sugar Refining Company vs. Irtin 1905 AC 368)\n",
              "    <span style=\"font-size: 0.8em; font-weight: bold; line-height: 1; border-radius: 0.35em; vertical-align: middle; margin-left: 0.5rem\">PRECEDENT</span>\n",
              "</mark>\n",
              ". </br></br>Right of appeal is statutory. Right of appeal inherits in no one. When conferred by statute it becomes a vested right. In this regard there is essential distinction between right of appeal and right of suit. Where there is inherent right in every person to file a suit and for its maintainability it requires no authority of law, appeal requires so. As was observed in The \n",
              "<mark class=\"entity\" style=\"background: #fad6d6; padding: 0.45em 0.6em; margin: 0 0.25em; line-height: 1; border-radius: 0.35em;\">\n",
              "    State of Kerala vs. K.M. Charia Abdulla and Co. (AIR 1965 SC 1585)\n",
              "    <span style=\"font-size: 0.8em; font-weight: bold; line-height: 1; border-radius: 0.35em; vertical-align: middle; margin-left: 0.5rem\">PRECEDENT</span>\n",
              "</mark>\n",
              ", the distinction between right of appeal and revision is based on differences implicit in the two expressions. An appeal is continuation of the proceedings; in effect the entire proceedings are before the appellate authority and it has power to review the evidence subject to statutory limitations prescribed. But in the case of revision, whatever powers the revisional authority may or may not have, it has no power to review the evidence, unless the statute expressly confers on it that power. It was noted by the four-Judges Bench in \n",
              "<mark class=\"entity\" style=\"background: #fad6d6; padding: 0.45em 0.6em; margin: 0 0.25em; line-height: 1; border-radius: 0.35em;\">\n",
              "    Hari Shankar and others vs. Rao Girdhari Lal Chowdhury (AIR 1963 SC 698)\n",
              "    <span style=\"font-size: 0.8em; font-weight: bold; line-height: 1; border-radius: 0.35em; vertical-align: middle; margin-left: 0.5rem\">PRECEDENT</span>\n",
              "</mark>\n",
              " that the distinction between an appeal and a revision is a real one. A right of appeal carries with it a right of re-hearing on law as well as fact, unless the statute conferring the right of appeal limits the re-hearing in some way, as has been done in second appeals arising under the Code. The power of hearing revision is generally given to a superior Court so that it may satisfy itself that a particular case has been decided according to law. Reference was made to \n",
              "<mark class=\"entity\" style=\"background: yellow; padding: 0.45em 0.6em; margin: 0 0.25em; line-height: 1; border-radius: 0.35em;\">\n",
              "    Section 115\n",
              "    <span style=\"font-size: 0.8em; font-weight: bold; line-height: 1; border-radius: 0.35em; vertical-align: middle; margin-left: 0.5rem\">PROVISION</span>\n",
              "</mark>\n",
              " of the Code to hold that the High Court's powers under the said provision are limited to certain particular categories of cases. The right there is confined to jurisdiction and jurisdiction alone. </br></br>As regards the field of operation of amended provision, it is to be noted that the language of amended provision is clear. </br></br> It is well settled principle in law that the Court cannot read anything into a statutory provision which is plain and unambiguous. A statute is an edict of the Legislature. The language employed in a statute is the determinative factor of legislative intent. Words and phrases are symbols that stimulate mental references to referents. The object of interpreting a statute is to ascertain the intention of the Legislature enacting it. (See Institute of Chartered Accountants of India v. M/s Price Waterhouse and Anr. (AIR 1998 SC 74)) The intention of the Legislature is primarily to be gathered from the language used, which means that attention should be paid to what has been said as also to what has not been said. As a consequence, a construction which requires for its support, addition or substitution of words or which results in rejection of words as meaningless has to be avoided. As observed in \n",
              "<mark class=\"entity\" style=\"background: #fad6d6; padding: 0.45em 0.6em; margin: 0 0.25em; line-height: 1; border-radius: 0.35em;\">\n",
              "    Crawford v. Spooner (1846 (6) Moore PC 1)\n",
              "    <span style=\"font-size: 0.8em; font-weight: bold; line-height: 1; border-radius: 0.35em; vertical-align: middle; margin-left: 0.5rem\">PRECEDENT</span>\n",
              "</mark>\n",
              ", Courts, cannot aid the Legislatures' defective phrasing of an Act, we cannot add or mend, and by construction make up deficiencies which are left there. (See The State of Gujarat and Ors. v. Dilipbhai Nathjibhai Patel and Anr. (JT 1998 (2) SC 253)). It is contrary to all rules of construction to read words into an Act unless it is absolutely necessary to do so. (See \n",
              "<mark class=\"entity\" style=\"background: #fad6d6; padding: 0.45em 0.6em; margin: 0 0.25em; line-height: 1; border-radius: 0.35em;\">\n",
              "    Stock v. Frank Jones (Tiptan) Ltd. (1978 1 All ER 948 (HL). Rules\n",
              "    <span style=\"font-size: 0.8em; font-weight: bold; line-height: 1; border-radius: 0.35em; vertical-align: middle; margin-left: 0.5rem\">PRECEDENT</span>\n",
              "</mark>\n",
              " of interpretation do not permit Courts to do so, unless the provision as it stands is meaningless or of doubtful meaning. Courts are not entitled to read words into an Act of \n",
              "<mark class=\"entity\" style=\"background: #a57db5; padding: 0.45em 0.6em; margin: 0 0.25em; line-height: 1; border-radius: 0.35em;\">\n",
              "    Parliament\n",
              "    <span style=\"font-size: 0.8em; font-weight: bold; line-height: 1; border-radius: 0.35em; vertical-align: middle; margin-left: 0.5rem\">ORG</span>\n",
              "</mark>\n",
              " unless clear reason for it is to be found within the four corners of the Act itself. (Per Lord Loreburn L.C. in \n",
              "<mark class=\"entity\" style=\"background: #fad6d6; padding: 0.45em 0.6em; margin: 0 0.25em; line-height: 1; border-radius: 0.35em;\">\n",
              "    Vickers Sons and Maxim Ltd. v. Evans (1910) AC 445 (HL)\n",
              "    <span style=\"font-size: 0.8em; font-weight: bold; line-height: 1; border-radius: 0.35em; vertical-align: middle; margin-left: 0.5rem\">PRECEDENT</span>\n",
              "</mark>\n",
              ", quoted in Jamma Masjid, \n",
              "<mark class=\"entity\" style=\"background: #fad6d6; padding: 0.45em 0.6em; margin: 0 0.25em; line-height: 1; border-radius: 0.35em;\">\n",
              "    Mercara v. Kodimaniandra Deviah and Ors.(AIR 1962 SC 847)\n",
              "    <span style=\"font-size: 0.8em; font-weight: bold; line-height: 1; border-radius: 0.35em; vertical-align: middle; margin-left: 0.5rem\">PRECEDENT</span>\n",
              "</mark>\n",
              ". </br></br>The question is not what may be supposed and has been intended but what has been said. &quot;Statutes should be construed not as theorems of \n",
              "<mark class=\"entity\" style=\"background: #a57db5; padding: 0.45em 0.6em; margin: 0 0.25em; line-height: 1; border-radius: 0.35em;\">\n",
              "    Euclid\n",
              "    <span style=\"font-size: 0.8em; font-weight: bold; line-height: 1; border-radius: 0.35em; vertical-align: middle; margin-left: 0.5rem\">ORG</span>\n",
              "</mark>\n",
              "&quot;. Judge Learned Hand said, &quot;but words must be construed with some imagination of the purposes which lie behind them&quot;. (See \n",
              "<mark class=\"entity\" style=\"background: #fad6d6; padding: 0.45em 0.6em; margin: 0 0.25em; line-height: 1; border-radius: 0.35em;\">\n",
              "    Lenigh Valley Coal Co. v. Yensavage 218 FR 547)\n",
              "    <span style=\"font-size: 0.8em; font-weight: bold; line-height: 1; border-radius: 0.35em; vertical-align: middle; margin-left: 0.5rem\">PRECEDENT</span>\n",
              "</mark>\n",
              ". The view was re-iterated in \n",
              "<mark class=\"entity\" style=\"background: #fad6d6; padding: 0.45em 0.6em; margin: 0 0.25em; line-height: 1; border-radius: 0.35em;\">\n",
              "    Union of India and Ors. v. Filip Tiago De Gama of Vedem Vasco De Gama (AIR 1990 SC 981)\n",
              "    <span style=\"font-size: 0.8em; font-weight: bold; line-height: 1; border-radius: 0.35em; vertical-align: middle; margin-left: 0.5rem\">PRECEDENT</span>\n",
              "</mark>\n",
              ". </br></br>In Dr. \n",
              "<mark class=\"entity\" style=\"background: #cdee81; padding: 0.45em 0.6em; margin: 0 0.25em; line-height: 1; border-radius: 0.35em;\">\n",
              "    R. Venkatchalam\n",
              "    <span style=\"font-size: 0.8em; font-weight: bold; line-height: 1; border-radius: 0.35em; vertical-align: middle; margin-left: 0.5rem\">RESPONDENT</span>\n",
              "</mark>\n",
              " and Ors. etc. v. Dy. Transport Commissioner and Ors. etc. (AIR 1977 SC 842), it was observed that Courts must avoid the danger of apriori determination of the meaning of a provision based on their own pre-conceived notions of ideological structure or scheme into which the provision to be interpreted is somewhat fitted. They are not entitled to usurp legislative function under the disguise of interpretation. </br></br>While interpreting a provision the Court only interprets the law and cannot legislate it. If a provision of law is misused and subjected to the abuse of process of law, it is for the legislature to amend, modify or repeal it, if deemed necessary. (See \n",
              "<mark class=\"entity\" style=\"background: #fad6d6; padding: 0.45em 0.6em; margin: 0 0.25em; line-height: 1; border-radius: 0.35em;\">\n",
              "    Commissioner of Sales Tax, M.P. v. Popular Trading Company, Ujjain (2000 (5) SCC 515)\n",
              "    <span style=\"font-size: 0.8em; font-weight: bold; line-height: 1; border-radius: 0.35em; vertical-align: middle; margin-left: 0.5rem\">PRECEDENT</span>\n",
              "</mark>\n",
              ". The legislative casus omissus cannot be supplied by judicial interpretative process. </br></br>Two principles of construction one relating to casus omissus and the other in regard to reading the statute as a whole appear to be well settled. Under the first principle a casus omissus cannot be supplied by the Court except in the case of clear necessity and when reason for it is found in the four corners of the statute itself but at the same time a casus omissus should not be readily inferred and for that purpose all the parts of a statute or section must be construed together and every clause of a section should be construed with reference to the context and other clauses thereof so that the construction to be put on a particular provision makes a consistent enactment of the whole statute. This would be more so if literal construction of a particular clause leads to manifestly absurd or anomalous results which could not have been intended by the Legislature. &quot;An intention to produce an unreasonable result&quot;, said Danackwerts, L.J. in \n",
              "<mark class=\"entity\" style=\"background: #fad6d6; padding: 0.45em 0.6em; margin: 0 0.25em; line-height: 1; border-radius: 0.35em;\">\n",
              "    Artemiou v. Procopiou (1966 1 QB 878)\n",
              "    <span style=\"font-size: 0.8em; font-weight: bold; line-height: 1; border-radius: 0.35em; vertical-align: middle; margin-left: 0.5rem\">PRECEDENT</span>\n",
              "</mark>\n",
              ", &quot;is not to be imputed to a statute if there is some other construction available&quot;. Where to apply words literally would &quot;defeat the obvious intention of the legislation and produce a wholly unreasonable result&quot; we must &quot;do some violence to the words&quot; and so achieve that obvious intention and produce a rational construction. (Per Lord Reid in \n",
              "<mark class=\"entity\" style=\"background: #fad6d6; padding: 0.45em 0.6em; margin: 0 0.25em; line-height: 1; border-radius: 0.35em;\">\n",
              "    Luke v. IRC (1966 AC 557)\n",
              "    <span style=\"font-size: 0.8em; font-weight: bold; line-height: 1; border-radius: 0.35em; vertical-align: middle; margin-left: 0.5rem\">PRECEDENT</span>\n",
              "</mark>\n",
              " where at p. 577 he also observed: &quot;this is not a new problem, though our standard of drafting is such that it rarely emerges&quot;. It is then true that, &quot;when the words of a law extend not to an inconvenience rarely happening, but do to those which often happen, it is good reason not to strain the words further than they reach, by saying it is casus omissus, and that the law intended quae frequentius accidunt.&quot; &quot;But,&quot; on the other hand,&quot;it is no reason, when the words of a law do enough extend to an inconvenience seldom happening, that they should not extend to it as well as if it happened more frequently, because it happens but seldom&quot; (See \n",
              "<mark class=\"entity\" style=\"background: #fad6d6; padding: 0.45em 0.6em; margin: 0 0.25em; line-height: 1; border-radius: 0.35em;\">\n",
              "    Fenton v. Hampton 11 Moore, P.C. 345)\n",
              "    <span style=\"font-size: 0.8em; font-weight: bold; line-height: 1; border-radius: 0.35em; vertical-align: middle; margin-left: 0.5rem\">PRECEDENT</span>\n",
              "</mark>\n",
              ". A casus omissus ought not to be created by interpretation, save in some case of strong necessity. Where, however, a casus omissus does really occur, either through the inadvertence of the legislature, or on the principle quod semel aut bis existit proetereunt legislatores, the rule is that the particular case, thus left unprovided for, must be disposed of according to the law as it existed before such statute - Casus omissus et oblivioni datus dispositioni communis juris relinquitur; &quot;a casus omissus,&quot; observed \n",
              "<mark class=\"entity\" style=\"background: #fdd8a5; padding: 0.45em 0.6em; margin: 0 0.25em; line-height: 1; border-radius: 0.35em;\">\n",
              "    Buller\n",
              "    <span style=\"font-size: 0.8em; font-weight: bold; line-height: 1; border-radius: 0.35em; vertical-align: middle; margin-left: 0.5rem\">JUDGE</span>\n",
              "</mark>\n",
              ", J. in \n",
              "<mark class=\"entity\" style=\"background: #fad6d6; padding: 0.45em 0.6em; margin: 0 0.25em; line-height: 1; border-radius: 0.35em;\">\n",
              "    Jones v. Smart (1 T.R. 52)\n",
              "    <span style=\"font-size: 0.8em; font-weight: bold; line-height: 1; border-radius: 0.35em; vertical-align: middle; margin-left: 0.5rem\">PRECEDENT</span>\n",
              "</mark>\n",
              ", &quot;can in no case be supplied by a court of law, for that would be to make laws.&quot; </br></br>The golden rule for construing wills, statutes, and, in fact, all written instruments has been thus stated: &quot;The grammatical and ordinary sense of the words is to be adhered to unless that would lead to some absurdity or some repugnance or inconsistency with the rest of the instrument, in which case the grammatical and ordinary sense of the words may be modified, so as to avoid that absurdity and inconsistency, but no further&quot; (See \n",
              "<mark class=\"entity\" style=\"background: #fad6d6; padding: 0.45em 0.6em; margin: 0 0.25em; line-height: 1; border-radius: 0.35em;\">\n",
              "    Grey v. Pearson 6 H.L. Cas. 61)\n",
              "    <span style=\"font-size: 0.8em; font-weight: bold; line-height: 1; border-radius: 0.35em; vertical-align: middle; margin-left: 0.5rem\">PRECEDENT</span>\n",
              "</mark>\n",
              ". The latter part of this &quot;golden rule&quot; must, however, be applied with much caution. &quot;if,&quot; remarked \n",
              "<mark class=\"entity\" style=\"background: #fdd8a5; padding: 0.45em 0.6em; margin: 0 0.25em; line-height: 1; border-radius: 0.35em;\">\n",
              "    Jervis\n",
              "    <span style=\"font-size: 0.8em; font-weight: bold; line-height: 1; border-radius: 0.35em; vertical-align: middle; margin-left: 0.5rem\">JUDGE</span>\n",
              "</mark>\n",
              ", C.J., &quot;the precise words used are plain and unambiguous in our judgment, we are bound to construe them in their ordinary sense, even though it lead, in our view of the case, to an absurdity or manifest injustice. Words may be modified or varied where their import is doubtful or obscure. But we assume the functions of legislators when we depart from the ordinary meaning of the precise words used, merely because we see, or fancy we see, an absurdity or manifest injustice from an adherence to their literal meaning&quot; (See \n",
              "<mark class=\"entity\" style=\"background: #fad6d6; padding: 0.45em 0.6em; margin: 0 0.25em; line-height: 1; border-radius: 0.35em;\">\n",
              "    Abley v. Dale 11, C.B. 378)\n",
              "    <span style=\"font-size: 0.8em; font-weight: bold; line-height: 1; border-radius: 0.35em; vertical-align: middle; margin-left: 0.5rem\">PRECEDENT</span>\n",
              "</mark>\n",
              ". </br></br>At this juncture, it would be necessary to take note of a maxim &quot;Ad ea quae frequentius accidunt jura adaptantur&quot; (The laws are adapted to those cases which more frequently occur). </br></br>Laws ought to be, and usually are, framed with a view to such cases as are of frequent rather than such as are of rare or accidental occurrence; or, in the language of the civil law, jus constitui oportet in his quoe ut plurimum accidunt, non quoe ex inopinato; for, neque leges neque senatusconsulta ita scribi possunt ut omnes casus qui quandoque inciderint comprehendantur, sed sufficit ea quoe plerumque accident contineri; laws cannot be so worded as to include every case which may arise, but it is sufficient if they apply to those things which most frequently happen. All legislation proceeds upon the principle of providing for the ordinary course of things, and to this principle frequent reference is to be found, in the reports, in answer to arguments, often speciously advanced, that the words of an Act cannot have a particular meaning, because in a certain contingency that meaning might work a result of which nobody would approve. In \n",
              "<mark class=\"entity\" style=\"background: #fad6d6; padding: 0.45em 0.6em; margin: 0 0.25em; line-height: 1; border-radius: 0.35em;\">\n",
              "    Miller v. Salomons (7 Exch. 475)\n",
              "    <span style=\"font-size: 0.8em; font-weight: bold; line-height: 1; border-radius: 0.35em; vertical-align: middle; margin-left: 0.5rem\">PRECEDENT</span>\n",
              "</mark>\n",
              " it was argued that \n",
              "<mark class=\"entity\" style=\"background: #a57db5; padding: 0.45em 0.6em; margin: 0 0.25em; line-height: 1; border-radius: 0.35em;\">\n",
              "    Parliament\n",
              "    <span style=\"font-size: 0.8em; font-weight: bold; line-height: 1; border-radius: 0.35em; vertical-align: middle; margin-left: 0.5rem\">ORG</span>\n",
              "</mark>\n",
              " could not have intended that a Jew, before sitting in the House of Commons, must use the words &quot;on the true faith of a Christian,&quot; prescribed in the oath of abjuration of 6 Geo. 3, c.53, because any person, refusing to take the same oath when tendered by two justices, would, under the 1 Geo. 1, st.2, \n",
              "<mark class=\"entity\" style=\"background: #7fdbd4; padding: 0.45em 0.6em; margin: 0 0.25em; line-height: 1; border-radius: 0.35em;\">\n",
              "    c.13\n",
              "    <span style=\"font-size: 0.8em; font-weight: bold; line-height: 1; border-radius: 0.35em; vertical-align: middle; margin-left: 0.5rem\">GPE</span>\n",
              "</mark>\n",
              ", be deemed to be a popish recusant, and would be liable to penalties as such; and to enforce these provisions against a Jew, it was said, would be the merest tyranny. But Baron Parke thus replied to this argument: -&quot;If in the vast majority of possible cases in all of ordinary occurrence the law is in no degree inconsistent or unreasonable construed according to its plain words, it seems to me to be an untenable proposition, and unsupported by authority, to say that the construction may be varied in every case, because there is one possible but highly improbably one in which the law would operate with great severity, and against our own notions of justice. The utmost that can be reasonably contended is, that it should be varied in that particular case, so as to obviate that injustice no further.&quot; </br></br>Appeal is the right of entering a superior Court and invoking its aid and interposition to redress the error of the court below. (per Westbury C., A.G. v. Sillem, 10 HLC 704 = 33 LJ ex.209). </br></br>&quot;Appeal&quot;, is defined in the Oxford Dictionary, volume I, page 398, as the transference of a case from an inferior to a higher Court or tribunal in the hope of reversing or modifying the decision of the former. In the Law Dictionary by Sweet, the term &quot;appeal&quot; is defined as a proceeding taken to rectify an erroneous decision of a Court by submitting the question to a higher Court or Court of appeal, and it is added that the term, therefore, includes, in addition to the proceedings specifically so called, the cases stated for the opinion of the Queen's Bench Division and the Court of Crown Cases reserved, and proceedings in error. In the Law Dictionary by Bouvier an appeal is defined as the removal of a case from a Court of inferior to one of superior jurisdiction for the purpose of obtaining a review and re-trial, and it is explained that in its technical sense it differs from a writ of error in this, that it subjects both the law and the facts to a review and re- trial, while the latter is a Common Law process which involves matter of law only for re-examination; it is added, however, that the term &quot;appeal&quot; is used in a comprehensive sense so as to include both what is described technically as an appeal and also the common law writ of error. As Mr. Justice \n",
              "<mark class=\"entity\" style=\"background: #fdd8a5; padding: 0.45em 0.6em; margin: 0 0.25em; line-height: 1; border-radius: 0.35em;\">\n",
              "    Subramania Ayyar\n",
              "    <span style=\"font-size: 0.8em; font-weight: bold; line-height: 1; border-radius: 0.35em; vertical-align: middle; margin-left: 0.5rem\">JUDGE</span>\n",
              "</mark>\n",
              " observes in \n",
              "<mark class=\"entity\" style=\"background: #fad6d6; padding: 0.45em 0.6em; margin: 0 0.25em; line-height: 1; border-radius: 0.35em;\">\n",
              "    Chappan v. Moidin, 22 Mad 68\n",
              "    <span style=\"font-size: 0.8em; font-weight: bold; line-height: 1; border-radius: 0.35em; vertical-align: middle; margin-left: 0.5rem\">PRECEDENT</span>\n",
              "</mark>\n",
              " at p.80 the two things which are required to constitute appellate jurisdiction are the existence of the relation of superior and inferior Court and the power, on the part of the former, to review decisions of the latter. </br></br> \n",
              "<mark class=\"entity\" style=\"background: yellow; padding: 0.45em 0.6em; margin: 0 0.25em; line-height: 1; border-radius: 0.35em;\">\n",
              "    Sub-section (2) of Section 115\n",
              "    <span style=\"font-size: 0.8em; font-weight: bold; line-height: 1; border-radius: 0.35em; vertical-align: middle; margin-left: 0.5rem\">PROVISION</span>\n",
              "</mark>\n",
              " has remained unaltered even after the amendment by the Amendment Act. A new sub- \n",
              "<mark class=\"entity\" style=\"background: yellow; padding: 0.45em 0.6em; margin: 0 0.25em; line-height: 1; border-radius: 0.35em;\">\n",
              "    section (3)\n",
              "    <span style=\"font-size: 0.8em; font-weight: bold; line-height: 1; border-radius: 0.35em; vertical-align: middle; margin-left: 0.5rem\">PROVISION</span>\n",
              "</mark>\n",
              " has been added in \n",
              "<mark class=\"entity\" style=\"background: yellow; padding: 0.45em 0.6em; margin: 0 0.25em; line-height: 1; border-radius: 0.35em;\">\n",
              "    Section 115\n",
              "    <span style=\"font-size: 0.8em; font-weight: bold; line-height: 1; border-radius: 0.35em; vertical-align: middle; margin-left: 0.5rem\">PROVISION</span>\n",
              "</mark>\n",
              " by the Amendment Act which states that revision shall not operate as a stay of suit or other proceeding before the Court except where such suit or other proceeding is stayed by the High Court. </br></br> In \n",
              "<mark class=\"entity\" style=\"background: yellow; padding: 0.45em 0.6em; margin: 0 0.25em; line-height: 1; border-radius: 0.35em;\">\n",
              "    Section 2\n",
              "    <span style=\"font-size: 0.8em; font-weight: bold; line-height: 1; border-radius: 0.35em; vertical-align: middle; margin-left: 0.5rem\">PROVISION</span>\n",
              "</mark>\n",
              ", the expressions 'decree' and 'order' have been defined in \n",
              "<mark class=\"entity\" style=\"background: yellow; padding: 0.45em 0.6em; margin: 0 0.25em; line-height: 1; border-radius: 0.35em;\">\n",
              "    clauses (2) and (14)\n",
              "    <span style=\"font-size: 0.8em; font-weight: bold; line-height: 1; border-radius: 0.35em; vertical-align: middle; margin-left: 0.5rem\">PROVISION</span>\n",
              "</mark>\n",
              " respectively. It is to be noted that it matters little that the judgment is styled as an &quot;order&quot;. If, in fact, it fulfils the conditions of the definition under \n",
              "<mark class=\"entity\" style=\"background: yellow; padding: 0.45em 0.6em; margin: 0 0.25em; line-height: 1; border-radius: 0.35em;\">\n",
              "    Section 2(2)\n",
              "    <span style=\"font-size: 0.8em; font-weight: bold; line-height: 1; border-radius: 0.35em; vertical-align: middle; margin-left: 0.5rem\">PROVISION</span>\n",
              "</mark>\n",
              ", it is a decree and becomes appealable. Orders that are not appealable are, generally speaking, those which are procussual i.e. interlocutory or incidental orders regulating proceedings but not deciding any of the matters of controversy in the suit. \n",
              "<mark class=\"entity\" style=\"background: yellow; padding: 0.45em 0.6em; margin: 0 0.25em; line-height: 1; border-radius: 0.35em;\">\n",
              "    Order 43\n",
              "    <span style=\"font-size: 0.8em; font-weight: bold; line-height: 1; border-radius: 0.35em; vertical-align: middle; margin-left: 0.5rem\">PROVISION</span>\n",
              "</mark>\n",
              " deals with the &quot;appeals from orders&quot;. These appeals lie under \n",
              "<mark class=\"entity\" style=\"background: yellow; padding: 0.45em 0.6em; margin: 0 0.25em; line-height: 1; border-radius: 0.35em;\">\n",
              "    Section 104\n",
              "    <span style=\"font-size: 0.8em; font-weight: bold; line-height: 1; border-radius: 0.35em; vertical-align: middle; margin-left: 0.5rem\">PROVISION</span>\n",
              "</mark>\n",
              " of the Code. The said Section deals with appeals from orders and specifies the orders from which appeals can lie. \n",
              "<mark class=\"entity\" style=\"background: yellow; padding: 0.45em 0.6em; margin: 0 0.25em; line-height: 1; border-radius: 0.35em;\">\n",
              "    Sub-section (2) of Section 104\n",
              "    <span style=\"font-size: 0.8em; font-weight: bold; line-height: 1; border-radius: 0.35em; vertical-align: middle; margin-left: 0.5rem\">PROVISION</span>\n",
              "</mark>\n",
              " says that no appeal shall lie from any order passed in appeal under the said \n",
              "<mark class=\"entity\" style=\"background: yellow; padding: 0.45em 0.6em; margin: 0 0.25em; line-height: 1; border-radius: 0.35em;\">\n",
              "    Section. Section 104 and Order 43 Rule I contain\n",
              "    <span style=\"font-size: 0.8em; font-weight: bold; line-height: 1; border-radius: 0.35em; vertical-align: middle; margin-left: 0.5rem\">PROVISION</span>\n",
              "</mark>\n",
              " a full list of appealable orders. An order which amounts to a decree within \n",
              "<mark class=\"entity\" style=\"background: yellow; padding: 0.45em 0.6em; margin: 0 0.25em; line-height: 1; border-radius: 0.35em;\">\n",
              "    Section 2(2)\n",
              "    <span style=\"font-size: 0.8em; font-weight: bold; line-height: 1; border-radius: 0.35em; vertical-align: middle; margin-left: 0.5rem\">PROVISION</span>\n",
              "</mark>\n",
              " does not fall within \n",
              "<mark class=\"entity\" style=\"background: yellow; padding: 0.45em 0.6em; margin: 0 0.25em; line-height: 1; border-radius: 0.35em;\">\n",
              "    Section 104\n",
              "    <span style=\"font-size: 0.8em; font-weight: bold; line-height: 1; border-radius: 0.35em; vertical-align: middle; margin-left: 0.5rem\">PROVISION</span>\n",
              "</mark>\n",
              " and the only applicable \n",
              "<mark class=\"entity\" style=\"background: yellow; padding: 0.45em 0.6em; margin: 0 0.25em; line-height: 1; border-radius: 0.35em;\">\n",
              "    section is Section 96\n",
              "    <span style=\"font-size: 0.8em; font-weight: bold; line-height: 1; border-radius: 0.35em; vertical-align: middle; margin-left: 0.5rem\">PROVISION</span>\n",
              "</mark>\n",
              ". \n",
              "<mark class=\"entity\" style=\"background: yellow; padding: 0.45em 0.6em; margin: 0 0.25em; line-height: 1; border-radius: 0.35em;\">\n",
              "    Clauses (a) to (f) of Section 104\n",
              "    <span style=\"font-size: 0.8em; font-weight: bold; line-height: 1; border-radius: 0.35em; vertical-align: middle; margin-left: 0.5rem\">PROVISION</span>\n",
              "</mark>\n",
              " were omitted by \n",
              "<mark class=\"entity\" style=\"background: #faea99; padding: 0.45em 0.6em; margin: 0 0.25em; line-height: 1; border-radius: 0.35em;\">\n",
              "    Arbitration Act 1940\n",
              "    <span style=\"font-size: 0.8em; font-weight: bold; line-height: 1; border-radius: 0.35em; vertical-align: middle; margin-left: 0.5rem\">STATUTE</span>\n",
              "</mark>\n",
              ". \n",
              "<mark class=\"entity\" style=\"background: yellow; padding: 0.45em 0.6em; margin: 0 0.25em; line-height: 1; border-radius: 0.35em;\">\n",
              "    Section 105\n",
              "    <span style=\"font-size: 0.8em; font-weight: bold; line-height: 1; border-radius: 0.35em; vertical-align: middle; margin-left: 0.5rem\">PROVISION</span>\n",
              "</mark>\n",
              " relates to other orders. It, inter alia, relates to any order i.e. so appealable as well as non-appelable orders. It is in the nature of a prohibition stipulating that save as otherwise expressly provided, no appeal shall lie from any order made by a Court in exercise of original or appellate jurisdiction; but where a decree is appealed from, any error, defect or irregularity in any order, affecting the decision of the case, may be set forth as a ground of objection in the memorandum of appeal. \n",
              "<mark class=\"entity\" style=\"background: yellow; padding: 0.45em 0.6em; margin: 0 0.25em; line-height: 1; border-radius: 0.35em;\">\n",
              "    Sub-section (2)\n",
              "    <span style=\"font-size: 0.8em; font-weight: bold; line-height: 1; border-radius: 0.35em; vertical-align: middle; margin-left: 0.5rem\">PROVISION</span>\n",
              "</mark>\n",
              " deals with case of remand. This section, in fact, contemplates two things i.e. (1) regular appeal from decree; and (2) the provision relating to grant of objection relating to interim order. \n",
              "<mark class=\"entity\" style=\"background: yellow; padding: 0.45em 0.6em; margin: 0 0.25em; line-height: 1; border-radius: 0.35em;\">\n",
              "    Order 43 Rule 1\n",
              "    <span style=\"font-size: 0.8em; font-weight: bold; line-height: 1; border-radius: 0.35em; vertical-align: middle; margin-left: 0.5rem\">PROVISION</span>\n",
              "</mark>\n",
              " is an integral part of \n",
              "<mark class=\"entity\" style=\"background: yellow; padding: 0.45em 0.6em; margin: 0 0.25em; line-height: 1; border-radius: 0.35em;\">\n",
              "    Section 104\n",
              "    <span style=\"font-size: 0.8em; font-weight: bold; line-height: 1; border-radius: 0.35em; vertical-align: middle; margin-left: 0.5rem\">PROVISION</span>\n",
              "</mark>\n",
              ". </br></br>A plain reading of \n",
              "<mark class=\"entity\" style=\"background: yellow; padding: 0.45em 0.6em; margin: 0 0.25em; line-height: 1; border-radius: 0.35em;\">\n",
              "    Section 115\n",
              "    <span style=\"font-size: 0.8em; font-weight: bold; line-height: 1; border-radius: 0.35em; vertical-align: middle; margin-left: 0.5rem\">PROVISION</span>\n",
              "</mark>\n",
              " as it stands makes it clear that the stress is on the question whether the order in favour of the party applying for revision would have given finality to suit or other proceeding. If the answer is 'yes' then the revision is maintainable. But on the contrary, if the answer is 'no' then the revision is not maintainable. Therefore, if the impugned order is of interim in nature or does not finally decide the lis, the revision will not be maintainable. The legislative intent is crystal clear. Those orders, which are interim in nature, cannot be the subject matter of revision under \n",
              "<mark class=\"entity\" style=\"background: yellow; padding: 0.45em 0.6em; margin: 0 0.25em; line-height: 1; border-radius: 0.35em;\">\n",
              "    Section 115\n",
              "    <span style=\"font-size: 0.8em; font-weight: bold; line-height: 1; border-radius: 0.35em; vertical-align: middle; margin-left: 0.5rem\">PROVISION</span>\n",
              "</mark>\n",
              ". There is marked distinction in language of \n",
              "<mark class=\"entity\" style=\"background: yellow; padding: 0.45em 0.6em; margin: 0 0.25em; line-height: 1; border-radius: 0.35em;\">\n",
              "    Section 97(3)\n",
              "    <span style=\"font-size: 0.8em; font-weight: bold; line-height: 1; border-radius: 0.35em; vertical-align: middle; margin-left: 0.5rem\">PROVISION</span>\n",
              "</mark>\n",
              " of the \n",
              "<mark class=\"entity\" style=\"background: #faea99; padding: 0.45em 0.6em; margin: 0 0.25em; line-height: 1; border-radius: 0.35em;\">\n",
              "    Old Amendment Act\n",
              "    <span style=\"font-size: 0.8em; font-weight: bold; line-height: 1; border-radius: 0.35em; vertical-align: middle; margin-left: 0.5rem\">STATUTE</span>\n",
              "</mark>\n",
              " and \n",
              "<mark class=\"entity\" style=\"background: yellow; padding: 0.45em 0.6em; margin: 0 0.25em; line-height: 1; border-radius: 0.35em;\">\n",
              "    Section 32(2)(i)\n",
              "    <span style=\"font-size: 0.8em; font-weight: bold; line-height: 1; border-radius: 0.35em; vertical-align: middle; margin-left: 0.5rem\">PROVISION</span>\n",
              "</mark>\n",
              " of the \n",
              "<mark class=\"entity\" style=\"background: #faea99; padding: 0.45em 0.6em; margin: 0 0.25em; line-height: 1; border-radius: 0.35em;\">\n",
              "    Amendment Act. While\n",
              "    <span style=\"font-size: 0.8em; font-weight: bold; line-height: 1; border-radius: 0.35em; vertical-align: middle; margin-left: 0.5rem\">STATUTE</span>\n",
              "</mark>\n",
              " in the former, there was clear legislative intent to save applications admitted or pending before the amendment came into force. Such an intent is significantly absent in \n",
              "<mark class=\"entity\" style=\"background: yellow; padding: 0.45em 0.6em; margin: 0 0.25em; line-height: 1; border-radius: 0.35em;\">\n",
              "    Section 32(2)(i)\n",
              "    <span style=\"font-size: 0.8em; font-weight: bold; line-height: 1; border-radius: 0.35em; vertical-align: middle; margin-left: 0.5rem\">PROVISION</span>\n",
              "</mark>\n",
              ". The amendment relates to procedures. No person has a vested right in a course of procedure. He has only the right of proceeding in the manner prescribed. If by a statutory change the mode of procedure is altered the parties are to proceed according to the altered mode, without exception, unless there is a different stipulation. </br></br> \n",
              "<mark class=\"entity\" style=\"background: yellow; padding: 0.45em 0.6em; margin: 0 0.25em; line-height: 1; border-radius: 0.35em;\">\n",
              "    Section 6\n",
              "    <span style=\"font-size: 0.8em; font-weight: bold; line-height: 1; border-radius: 0.35em; vertical-align: middle; margin-left: 0.5rem\">PROVISION</span>\n",
              "</mark>\n",
              " of the \n",
              "<mark class=\"entity\" style=\"background: #faea99; padding: 0.45em 0.6em; margin: 0 0.25em; line-height: 1; border-radius: 0.35em;\">\n",
              "    General Clauses Act\n",
              "    <span style=\"font-size: 0.8em; font-weight: bold; line-height: 1; border-radius: 0.35em; vertical-align: middle; margin-left: 0.5rem\">STATUTE</span>\n",
              "</mark>\n",
              " has no application because there is no substantive vested right available to a party seeking revision under \n",
              "<mark class=\"entity\" style=\"background: yellow; padding: 0.45em 0.6em; margin: 0 0.25em; line-height: 1; border-radius: 0.35em;\">\n",
              "    Section 115\n",
              "    <span style=\"font-size: 0.8em; font-weight: bold; line-height: 1; border-radius: 0.35em; vertical-align: middle; margin-left: 0.5rem\">PROVISION</span>\n",
              "</mark>\n",
              " of the Code. In \n",
              "<mark class=\"entity\" style=\"background: #fad6d6; padding: 0.45em 0.6em; margin: 0 0.25em; line-height: 1; border-radius: 0.35em;\">\n",
              "    Kolhapur Canesugar Works Ltd. and another vs. Union of India and others (AIR 2000 SC 811)\n",
              "    <span style=\"font-size: 0.8em; font-weight: bold; line-height: 1; border-radius: 0.35em; vertical-align: middle; margin-left: 0.5rem\">PRECEDENT</span>\n",
              "</mark>\n",
              ", it was observed that if a provision of statute is unconditionally omitted without a saving clause in favour of pending proceedings, all actions must stop where the omission finds them, and if final relief has not been granted before the omission goes into effect, there is no scope for granting it afterwards. There is modification of this position by application of \n",
              "<mark class=\"entity\" style=\"background: yellow; padding: 0.45em 0.6em; margin: 0 0.25em; line-height: 1; border-radius: 0.35em;\">\n",
              "    Section 6\n",
              "    <span style=\"font-size: 0.8em; font-weight: bold; line-height: 1; border-radius: 0.35em; vertical-align: middle; margin-left: 0.5rem\">PROVISION</span>\n",
              "</mark>\n",
              " of the \n",
              "<mark class=\"entity\" style=\"background: #faea99; padding: 0.45em 0.6em; margin: 0 0.25em; line-height: 1; border-radius: 0.35em;\">\n",
              "    General Clauses Act\n",
              "    <span style=\"font-size: 0.8em; font-weight: bold; line-height: 1; border-radius: 0.35em; vertical-align: middle; margin-left: 0.5rem\">STATUTE</span>\n",
              "</mark>\n",
              " or by making special provisions. Operation of repeal or deletion as to the future and the past largely depends on the savings applicable. In a case where a particular provision in the statute is omitted and in its place another provision dealing with the same contingency is introduced without a saving clause in favour of pending proceedings, then it can be reasonably inferred that the intention of the legislature is that the pending proceedings shall continue but a fresh proceeding for the same purpose may be initiated under the new provision. </br></br> In view of what has been stated above the inevitable conclusion is that the High Courts were right in the conclusion about non-maintainability of revision applications. </br></br> It was submitted by learned counsel for the appellants that even if the revision applications are held to be not maintainable, there should not be a bar on challenge being made under \n",
              "<mark class=\"entity\" style=\"background: yellow; padding: 0.45em 0.6em; margin: 0 0.25em; line-height: 1; border-radius: 0.35em;\">\n",
              "    Section 227\n",
              "    <span style=\"font-size: 0.8em; font-weight: bold; line-height: 1; border-radius: 0.35em; vertical-align: middle; margin-left: 0.5rem\">PROVISION</span>\n",
              "</mark>\n",
              " of the \n",
              "<mark class=\"entity\" style=\"background: #faea99; padding: 0.45em 0.6em; margin: 0 0.25em; line-height: 1; border-radius: 0.35em;\">\n",
              "    Constitution\n",
              "    <span style=\"font-size: 0.8em; font-weight: bold; line-height: 1; border-radius: 0.35em; vertical-align: middle; margin-left: 0.5rem\">STATUTE</span>\n",
              "</mark>\n",
              ". It was submitted that an opportunity may be granted to the appellants to avail the remedy. </br></br> If any remedy is available to a party under any statute no liberty is necessary to be granted for availing the same. If the appellants avail such remedy, the same shall be dealt with in accordance with law. </br></br> The appeals are dismissed. No costs.</div></span>"
            ],
            "text/plain": [
              "<IPython.core.display.HTML object>"
            ]
          },
          "metadata": {},
          "output_type": "display_data"
        }
      ],
      "source": [
        "# Perform preliminary tests on a sample text using the trained model(best)\n",
        "\n",
        "nlp_ner = spacy.load(\"model-best\")\n",
        "doc = nlp_ner(judgment_text)\n",
        "colors = {'COURT': \"#bbabf2\", 'PETITIONER': \"#f570ea\", \"RESPONDENT\": \"#cdee81\", 'JUDGE': \"#fdd8a5\",\n",
        "              \"LAWYER\": \"#f9d380\", 'WITNESS': \"violet\", \"STATUTE\": \"#faea99\", \"PROVISION\": \"yellow\",\n",
        "              'CASE_NUMBER': \"#fbb1cf\", \"PRECEDENT\": \"#fad6d6\", 'DATE': \"#b1ecf7\", 'OTHER_PERSON': \"#b0f6a2\",\n",
        "              'ORG': '#a57db5', 'GPE': '#7fdbd4'}\n",
        "options = {\"ents\": training_data_preamble['classes'], \"colors\": colors}\n",
        "spacy.displacy.render(doc, style=\"ent\", options= options, jupyter=True)"
      ]
    },
    {
      "cell_type": "code",
      "execution_count": null,
      "metadata": {
        "colab": {
          "base_uri": "https://localhost:8080/",
          "height": 945
        },
        "id": "KaYo87I2mjLE",
        "outputId": "34d8c121-d756-4f85-bd0c-484459b6f1bc"
      },
      "outputs": [
        {
          "name": "stdout",
          "output_type": "stream",
          "text": [
            "{'text': \"$~40\\n*    In The High Court Of Delhi At New Delhi\\n\\n%                                                  Decided on: 31.07.2019\\n\\n+ Mac.App. 976/2018 & Cm Nos. 46122/2018, 15243/2019, 34195/2019\\n\\n       Oriental Insurance Co Ltd.                     ..... Appellant\\n           Through: Mr. S.P. Jain, Mr. Himanshu Gambhir, Mr. Nar\\n                    Singh and Mr. Pushkar Singh Kanwal, Advocates.\\n\\n                          Versus\\n\\n       Zaixhu Xie & Ors (M/S Qualcomm India Pvt Ltd )\\n                                                     ..... Respondents\\n           Through: Mr. Arvind Chaudhary, Advocate for Respondent\\n                     Nos. 1& 2.\\n                     Mr. Ram Kawar, Advocate for Mr. Amit Kumar\\n                     Gupta, Advocate for Respondent No.4.\\n\\nCoram:\\nHon'Ble Mr. Justice Najmi Waziri\\n\\nNajmi Waziri, J. (Oral)\\n\\n\\n\", 'entities': [(17, 49, 'COURT'), (199, 225, 'PETITIONER'), (286, 295, 'LAWYER'), (301, 317, 'LAWYER'), (323, 352, 'LAWYER'), (361, 381, 'LAWYER'), (436, 446, 'RESPONDENT'), (458, 480, 'RESPONDENT'), (578, 594, 'LAWYER'), (677, 686, 'LAWYER'), (705, 715, 'LAWYER'), (802, 814, 'JUDGE'), (816, 828, 'JUDGE')]}\n",
            " Arvind Chaudhary, Advocate for Respondent\n",
            "                     Nos. 1& 2.\n",
            "                     Mr. Ram Kawar, Advocate for Mr. Amit Kumar\n"
          ]
        },
        {
          "data": {
            "text/html": [
              "<span class=\"tex2jax_ignore\"><div class=\"entities\" style=\"line-height: 2.5; direction: ltr\">$~40</br>*    In The \n",
              "<mark class=\"entity\" style=\"background: #bbabf2; padding: 0.45em 0.6em; margin: 0 0.25em; line-height: 1; border-radius: 0.35em;\">\n",
              "    High Court Of Delhi At New Delhi\n",
              "    <span style=\"font-size: 0.8em; font-weight: bold; line-height: 1; border-radius: 0.35em; vertical-align: middle; margin-left: 0.5rem\">COURT</span>\n",
              "</mark>\n",
              "</br></br>%                                                  Decided on: 31.07.2019</br></br>+ Mac.App. 976/2018 &amp; Cm Nos. 46122/2018, 15243/2019, 34195/2019</br></br>       \n",
              "<mark class=\"entity\" style=\"background: #f570ea; padding: 0.45em 0.6em; margin: 0 0.25em; line-height: 1; border-radius: 0.35em;\">\n",
              "    Oriental Insurance Co Ltd.\n",
              "    <span style=\"font-size: 0.8em; font-weight: bold; line-height: 1; border-radius: 0.35em; vertical-align: middle; margin-left: 0.5rem\">PETITIONER</span>\n",
              "</mark>\n",
              "                     ..... Appellant</br>           Through: Mr. \n",
              "<mark class=\"entity\" style=\"background: #f9d380; padding: 0.45em 0.6em; margin: 0 0.25em; line-height: 1; border-radius: 0.35em;\">\n",
              "    S.P. Jain\n",
              "    <span style=\"font-size: 0.8em; font-weight: bold; line-height: 1; border-radius: 0.35em; vertical-align: middle; margin-left: 0.5rem\">LAWYER</span>\n",
              "</mark>\n",
              ", Mr. \n",
              "<mark class=\"entity\" style=\"background: #f9d380; padding: 0.45em 0.6em; margin: 0 0.25em; line-height: 1; border-radius: 0.35em;\">\n",
              "    Himanshu Gambhir\n",
              "    <span style=\"font-size: 0.8em; font-weight: bold; line-height: 1; border-radius: 0.35em; vertical-align: middle; margin-left: 0.5rem\">LAWYER</span>\n",
              "</mark>\n",
              ", Mr. \n",
              "<mark class=\"entity\" style=\"background: #f9d380; padding: 0.45em 0.6em; margin: 0 0.25em; line-height: 1; border-radius: 0.35em;\">\n",
              "    Nar\n",
              "                    Singh\n",
              "    <span style=\"font-size: 0.8em; font-weight: bold; line-height: 1; border-radius: 0.35em; vertical-align: middle; margin-left: 0.5rem\">LAWYER</span>\n",
              "</mark>\n",
              " and Mr. \n",
              "<mark class=\"entity\" style=\"background: #f9d380; padding: 0.45em 0.6em; margin: 0 0.25em; line-height: 1; border-radius: 0.35em;\">\n",
              "    Pushkar Singh Kanwal\n",
              "    <span style=\"font-size: 0.8em; font-weight: bold; line-height: 1; border-radius: 0.35em; vertical-align: middle; margin-left: 0.5rem\">LAWYER</span>\n",
              "</mark>\n",
              ", Advocates.</br></br>                          Versus</br></br>       \n",
              "<mark class=\"entity\" style=\"background: #cdee81; padding: 0.45em 0.6em; margin: 0 0.25em; line-height: 1; border-radius: 0.35em;\">\n",
              "    Zaixhu Xie\n",
              "    <span style=\"font-size: 0.8em; font-weight: bold; line-height: 1; border-radius: 0.35em; vertical-align: middle; margin-left: 0.5rem\">RESPONDENT</span>\n",
              "</mark>\n",
              " &amp; Ors (M/S Qualcomm India Pvt Ltd )</br>                                                     ..... Respondents</br>           Through: Mr. \n",
              "<mark class=\"entity\" style=\"background: #f9d380; padding: 0.45em 0.6em; margin: 0 0.25em; line-height: 1; border-radius: 0.35em;\">\n",
              "    Arvind Chaudhary\n",
              "    <span style=\"font-size: 0.8em; font-weight: bold; line-height: 1; border-radius: 0.35em; vertical-align: middle; margin-left: 0.5rem\">LAWYER</span>\n",
              "</mark>\n",
              ", Advocate for Respondent</br>                     Nos. 1&amp; 2.</br>                     Mr. \n",
              "<mark class=\"entity\" style=\"background: #f9d380; padding: 0.45em 0.6em; margin: 0 0.25em; line-height: 1; border-radius: 0.35em;\">\n",
              "    Ram Kawar\n",
              "    <span style=\"font-size: 0.8em; font-weight: bold; line-height: 1; border-radius: 0.35em; vertical-align: middle; margin-left: 0.5rem\">LAWYER</span>\n",
              "</mark>\n",
              ", Advocate for Mr. \n",
              "<mark class=\"entity\" style=\"background: #f9d380; padding: 0.45em 0.6em; margin: 0 0.25em; line-height: 1; border-radius: 0.35em;\">\n",
              "    Amit Kumar\n",
              "                     Gupta\n",
              "    <span style=\"font-size: 0.8em; font-weight: bold; line-height: 1; border-radius: 0.35em; vertical-align: middle; margin-left: 0.5rem\">LAWYER</span>\n",
              "</mark>\n",
              ", Advocate for Respondent No.4.</br></br>Coram:</br>Hon'Ble Mr. Justice \n",
              "<mark class=\"entity\" style=\"background: #fdd8a5; padding: 0.45em 0.6em; margin: 0 0.25em; line-height: 1; border-radius: 0.35em;\">\n",
              "    Najmi Waziri\n",
              "    <span style=\"font-size: 0.8em; font-weight: bold; line-height: 1; border-radius: 0.35em; vertical-align: middle; margin-left: 0.5rem\">JUDGE</span>\n",
              "</mark>\n",
              "</br></br>Najmi Waziri, J. (Oral)</br></br></br></div></span>"
            ],
            "text/plain": [
              "<IPython.core.display.HTML object>"
            ]
          },
          "metadata": {},
          "output_type": "display_data"
        }
      ],
      "source": [
        "temp = testing_data[0][\"text\"]\n",
        "\n",
        "print(testing_data[0])\n",
        "print(testing_data[0][\"text\"][577:715])\n",
        "\n",
        "\n",
        "nlp_ner = spacy.load(\"model-best\")\n",
        "doc = nlp_ner(temp)\n",
        "colors = {'COURT': \"#bbabf2\", 'PETITIONER': \"#f570ea\", \"RESPONDENT\": \"#cdee81\", 'JUDGE': \"#fdd8a5\",\n",
        "              \"LAWYER\": \"#f9d380\", 'WITNESS': \"violet\", \"STATUTE\": \"#faea99\", \"PROVISION\": \"yellow\",\n",
        "              'CASE_NUMBER': \"#fbb1cf\", \"PRECEDENT\": \"#fad6d6\", 'DATE': \"#b1ecf7\", 'OTHER_PERSON': \"#b0f6a2\",\n",
        "              'ORG': '#a57db5', 'GPE': '#7fdbd4'}\n",
        "options = {\"ents\": training_data_preamble['classes'], \"colors\": colors}\n",
        "spacy.displacy.render(doc, style=\"ent\", options= options, jupyter=True)"
      ]
    },
    {
      "cell_type": "code",
      "execution_count": null,
      "metadata": {
        "id": "eK8NSsKdcTGJ"
      },
      "outputs": [],
      "source": [
        "# Read Dev data - Judgement for testing\n",
        "\n",
        "import json\n",
        " \n",
        "with open('/content/sample_data/NER_DEV_JUDGEMENT.json', 'r') as f:\n",
        "    test_data_judgement = json.load(f)"
      ]
    },
    {
      "cell_type": "code",
      "execution_count": null,
      "metadata": {
        "colab": {
          "base_uri": "https://localhost:8080/"
        },
        "id": "odOt7X1HfpKP",
        "outputId": "3355d0c0-4415-4d28-cf7d-d21020fec45a"
      },
      "outputs": [
        {
          "name": "stdout",
          "output_type": "stream",
          "text": [
            "768\n"
          ]
        }
      ],
      "source": [
        "# Transform Judgement test data into required Spacy format\n",
        "\n",
        "testing_data_judgement = {'classes' : ['COURT', \"PETITIONER\", \"RESPONDENT\", \"JUDGE\", \"LAWYER\", \"DATE\", \"ORG\", \"GPE\", \n",
        "                              \"STATUTE\", \"PROVISION\", \"PRECEDENT\", \"CASE_NUMBER\", \"WITNESS\", \"OTHER_PERSON\"], \n",
        "                 'annotations' : []}\n",
        "\n",
        "for example in test_data_judgement:\n",
        "  temp_dict = {}\n",
        "  temp_dict['text'] = example['data']['text']\n",
        "  temp_dict['entities'] = []\n",
        "  for annotation in example['annotations']:\n",
        "    for result in annotation['result']:\n",
        "      start = result['value']['start']\n",
        "      end = result['value']['end']\n",
        "      for label in result['value']['labels']:\n",
        "        temp_dict['entities'].append((start, end, label))\n",
        "  if temp_dict['entities']:\n",
        "    testing_data_judgement['annotations'].append(temp_dict)\n",
        "  \n",
        "# print(training_data['annotations'][0])\n",
        "print(len(testing_data_judgement['annotations']))"
      ]
    },
    {
      "cell_type": "code",
      "execution_count": null,
      "metadata": {
        "id": "ygF_biDhSwF0"
      },
      "outputs": [],
      "source": [
        "# Read Dev data - Preamble for testing\n",
        "\n",
        "import json\n",
        " \n",
        "with open('/content/sample_data/NER_DEV_PREAMBLE.json', 'r') as f:\n",
        "    test_data_preamble = json.load(f)"
      ]
    },
    {
      "cell_type": "code",
      "execution_count": null,
      "metadata": {
        "colab": {
          "base_uri": "https://localhost:8080/"
        },
        "id": "zJ9fQG3ySy90",
        "outputId": "9c3732e6-b7a1-4604-ce31-b7922f6de20f"
      },
      "outputs": [
        {
          "name": "stdout",
          "output_type": "stream",
          "text": [
            "125\n"
          ]
        }
      ],
      "source": [
        "# Transform Preamble test data into required Spacy format\n",
        "\n",
        "testing_data_preamble = {'classes' : ['COURT', \"PETITIONER\", \"RESPONDENT\", \"JUDGE\", \"LAWYER\", \"DATE\", \"ORG\", \"GPE\", \n",
        "                              \"STATUTE\", \"PROVISION\", \"PRECEDENT\", \"CASE_NUMBER\", \"WITNESS\", \"OTHER_PERSON\"], \n",
        "                 'annotations' : []}\n",
        "\n",
        "for example in test_data_preamble:\n",
        "  temp_dict = {}\n",
        "  temp_dict['text'] = example['data']['text']\n",
        "  temp_dict['entities'] = []\n",
        "  for annotation in example['annotations']:\n",
        "    for result in annotation['result']:\n",
        "      start = result['value']['start']\n",
        "      end = result['value']['end']\n",
        "      for label in result['value']['labels']:\n",
        "        temp_dict['entities'].append((start, end, label))\n",
        "  if temp_dict['entities']:\n",
        "    testing_data_preamble['annotations'].append(temp_dict)\n",
        "  \n",
        "# print(training_data['annotations'][0])\n",
        "print(len(testing_data_preamble['annotations']))"
      ]
    },
    {
      "cell_type": "code",
      "execution_count": null,
      "metadata": {
        "colab": {
          "base_uri": "https://localhost:8080/"
        },
        "id": "BPnRcE0eTKJN",
        "outputId": "de78f9aa-345b-4a04-8d47-fa944bd09a55"
      },
      "outputs": [
        {
          "name": "stdout",
          "output_type": "stream",
          "text": [
            "Number of entries in Test dataset: 893\n"
          ]
        }
      ],
      "source": [
        "testing_data = testing_data_preamble['annotations'] + testing_data_judgement['annotations']\n",
        "\n",
        "print(\"Number of entries in Test dataset:\", len(testing_data))"
      ]
    },
    {
      "cell_type": "code",
      "execution_count": null,
      "metadata": {
        "colab": {
          "base_uri": "https://localhost:8080/"
        },
        "id": "VKrMkjgEj1JY",
        "outputId": "3d14c87a-df60-4d25-c953-69eec6231b21"
      },
      "outputs": [
        {
          "name": "stderr",
          "output_type": "stream",
          "text": [
            " 57%|█████▋    | 507/893 [00:00<00:00, 1546.57it/s]"
          ]
        },
        {
          "name": "stdout",
          "output_type": "stream",
          "text": [
            "Skipping entity\n",
            "Skipping entity\n",
            "Skipping entity\n",
            "Skipping entity\n",
            "Skipping entity\n",
            "Skipping entity\n"
          ]
        },
        {
          "name": "stderr",
          "output_type": "stream",
          "text": [
            "100%|██████████| 893/893 [00:00<00:00, 1565.90it/s]\n"
          ]
        },
        {
          "name": "stdout",
          "output_type": "stream",
          "text": [
            "Skipping entity\n",
            "Skipping entity\n",
            "Skipping entity\n"
          ]
        }
      ],
      "source": [
        "# Create DocBin file for test data\n",
        "\n",
        "for training_example  in tqdm(testing_data): \n",
        "    text = training_example['text']\n",
        "    labels = training_example['entities']\n",
        "    doc = nlp.make_doc(text) \n",
        "    ents = []\n",
        "    for start, end, label in labels:\n",
        "        span = doc.char_span(start, end, label=label, alignment_mode=\"contract\")\n",
        "        if span is None:\n",
        "            print(\"Skipping entity\")\n",
        "        else:\n",
        "          ents.append(span)\n",
        "    filtered_ents = filter_spans(ents)\n",
        "    doc.ents = filtered_ents \n",
        "    doc_bin.add(doc)\n",
        "\n",
        "doc_bin.to_disk(\"/content/sample_data/test_data.spacy\") # save the docbin object"
      ]
    },
    {
      "cell_type": "code",
      "execution_count": null,
      "metadata": {
        "colab": {
          "base_uri": "https://localhost:8080/"
        },
        "id": "RW14j2cTf4mM",
        "outputId": "5a5e2e7a-e1ad-4b14-e8b8-9d4cfe6fb605"
      },
      "outputs": [
        {
          "name": "stdout",
          "output_type": "stream",
          "text": [
            "\u001b[38;5;4mℹ Using CPU\u001b[0m\n",
            "\u001b[38;5;4mℹ To switch to GPU 0, use the option: --gpu-id 0\u001b[0m\n",
            "\u001b[1m\n",
            "================================== Results ==================================\u001b[0m\n",
            "\n",
            "TOK     100.00\n",
            "NER P   91.38 \n",
            "NER R   90.92 \n",
            "NER F   91.15 \n",
            "SPEED   26854 \n",
            "\n",
            "\u001b[1m\n",
            "=============================== NER (per type) ===============================\u001b[0m\n",
            "\n",
            "                   P       R       F\n",
            "ORG            85.63   83.44   84.52\n",
            "OTHER_PERSON   91.04   89.17   90.10\n",
            "WITNESS        92.71   92.12   92.41\n",
            "GPE            89.12   85.06   87.05\n",
            "STATUTE        93.10   94.62   93.86\n",
            "DATE           96.92   97.05   96.98\n",
            "PROVISION      93.36   94.66   94.00\n",
            "COURT          93.93   94.18   94.06\n",
            "PRECEDENT      86.89   81.54   84.13\n",
            "CASE_NUMBER    79.36   88.11   83.51\n",
            "PETITIONER     91.24   84.20   87.58\n",
            "JUDGE          97.21   96.24   96.72\n",
            "RESPONDENT     85.86   88.59   87.20\n",
            "LAWYER         95.38   96.36   95.87\n",
            "\n",
            "\u001b[38;5;2m✔ Saved results to /content/sample_data/metrics.json\u001b[0m\n"
          ]
        }
      ],
      "source": [
        "# Model Evaluation\n",
        "\n",
        "!python -m spacy evaluate model-best /content/sample_data/test_data.spacy --output /content/sample_data/metrics.json --gold-preproc "
      ]
    },
    {
      "cell_type": "code",
      "execution_count": null,
      "metadata": {
        "colab": {
          "base_uri": "https://localhost:8080/"
        },
        "id": "Ken84c7Zhatp",
        "outputId": "22308267-ffbe-4d46-d716-aac4fd2ed426"
      },
      "outputs": [
        {
          "name": "stdout",
          "output_type": "stream",
          "text": [
            "  adding: content/model-best/ (stored 0%)\n",
            "  adding: content/model-best/config.cfg (deflated 61%)\n",
            "  adding: content/model-best/tok2vec/ (stored 0%)\n",
            "  adding: content/model-best/tok2vec/model (deflated 7%)\n",
            "  adding: content/model-best/tok2vec/cfg (stored 0%)\n",
            "  adding: content/model-best/meta.json (deflated 65%)\n",
            "  adding: content/model-best/ner/ (stored 0%)\n",
            "  adding: content/model-best/ner/moves (deflated 76%)\n",
            "  adding: content/model-best/ner/model (deflated 7%)\n",
            "  adding: content/model-best/ner/cfg (deflated 33%)\n",
            "  adding: content/model-best/vocab/ (stored 0%)\n",
            "  adding: content/model-best/vocab/strings.json (deflated 76%)\n",
            "  adding: content/model-best/vocab/vectors (deflated 45%)\n",
            "  adding: content/model-best/vocab/lookups.bin (stored 0%)\n",
            "  adding: content/model-best/vocab/key2row (stored 0%)\n",
            "  adding: content/model-best/vocab/vectors.cfg (stored 0%)\n",
            "  adding: content/model-best/tokenizer (deflated 81%)\n"
          ]
        }
      ],
      "source": [
        "!zip -r /content/model-best.zip /content/model-best"
      ]
    },
    {
      "cell_type": "code",
      "execution_count": null,
      "metadata": {
        "colab": {
          "base_uri": "https://localhost:8080/"
        },
        "id": "CaHPBQCnpAl8",
        "outputId": "d4162d6d-0be3-4f22-c914-aab92835b30c"
      },
      "outputs": [
        {
          "name": "stdout",
          "output_type": "stream",
          "text": [
            "  adding: content/model-last/ (stored 0%)\n",
            "  adding: content/model-last/config.cfg (deflated 61%)\n",
            "  adding: content/model-last/tok2vec/ (stored 0%)\n",
            "  adding: content/model-last/tok2vec/model (deflated 7%)\n",
            "  adding: content/model-last/tok2vec/cfg (stored 0%)\n",
            "  adding: content/model-last/meta.json (deflated 66%)\n",
            "  adding: content/model-last/ner/ (stored 0%)\n",
            "  adding: content/model-last/ner/moves (deflated 76%)\n",
            "  adding: content/model-last/ner/model (deflated 7%)\n",
            "  adding: content/model-last/ner/cfg (deflated 33%)\n",
            "  adding: content/model-last/vocab/ (stored 0%)\n",
            "  adding: content/model-last/vocab/strings.json (deflated 76%)\n",
            "  adding: content/model-last/vocab/vectors (deflated 45%)\n",
            "  adding: content/model-last/vocab/lookups.bin (stored 0%)\n",
            "  adding: content/model-last/vocab/key2row (stored 0%)\n",
            "  adding: content/model-last/vocab/vectors.cfg (stored 0%)\n",
            "  adding: content/model-last/tokenizer (deflated 81%)\n"
          ]
        }
      ],
      "source": [
        "!zip -r /content/model-last.zip /content/model-last"
      ]
    },
    {
      "cell_type": "code",
      "execution_count": 1,
      "metadata": {
        "id": "bhev8frGpHTx",
        "outputId": "11019285-7b8e-40aa-878f-38cf705cf3e2",
        "colab": {
          "base_uri": "https://localhost:8080/",
          "height": 295
        }
      },
      "outputs": [
        {
          "output_type": "display_data",
          "data": {
            "text/plain": [
              "<Figure size 432x288 with 1 Axes>"
            ],
            "image/png": "[encoded data removed]"
          },
          "metadata": {
            "needs_background": "light"
          }
        }
      ],
      "source": [
        "# importing the required module\n",
        "import matplotlib.pyplot as plt\n",
        "  \n",
        "# x axis values\n",
        "x = [i for i in range(32)]\n",
        "# corresponding y axis values\n",
        "y = [0.00, 0.56, 0.68, 0.74, 0.79, 0.81, 0.83, 0.84, 0.85, 0.87, 0.87, 0.88, 0.89, 0.89, 0.89, 0.90, 0.90, 0.90, 0.91, 0.91, 0.91, 0.92, 0.92, 0.92, 0.92, 0.93, 0.92, 0.93, 0.93, 0.93, 0.93, 0.93]\n",
        "\n",
        "# plotting the points \n",
        "plt.plot(x, y)\n",
        "  \n",
        "# naming the x axis\n",
        "plt.xlabel('Epochs')\n",
        "# naming the y axis\n",
        "plt.ylabel('F1 score')\n",
        "  \n",
        "# giving a title to my graph\n",
        "plt.title('Epochs vs F1 score')\n",
        "  \n",
        "# function to show the plot\n",
        "plt.show()"
      ]
    },
    {
      "cell_type": "code",
      "execution_count": null,
      "metadata": {
        "id": "vTscxFck05Ok"
      },
      "outputs": [],
      "source": []
    }
  ],
  "metadata": {
    "accelerator": "GPU",
    "colab": {
      "provenance": []
    },
    "gpuClass": "standard",
    "kernelspec": {
      "display_name": "Python 3",
      "name": "python3"
    },
    "language_info": {
      "name": "python",
      "version": "3.9.7"
    }
  },
  "nbformat": 4,
  "nbformat_minor": 0
}